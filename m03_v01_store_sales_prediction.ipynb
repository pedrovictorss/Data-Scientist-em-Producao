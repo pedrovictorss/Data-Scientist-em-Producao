{
 "cells": [
  {
   "cell_type": "markdown",
   "id": "bc672609",
   "metadata": {},
   "source": [
    "# 0.0. IMPORTS\n"
   ]
  },
  {
   "cell_type": "code",
<<<<<<< HEAD
   "execution_count": 7,
   "id": "db6d7db4",
   "metadata": {
    "ExecuteTime": {
     "end_time": "2022-12-16T00:44:50.287481Z",
     "start_time": "2022-12-16T00:44:50.268642Z"
=======
   "execution_count": 34,
   "id": "db6d7db4",
   "metadata": {
    "ExecuteTime": {
     "end_time": "2022-12-15T19:16:19.343962Z",
     "start_time": "2022-12-15T19:16:19.323216Z"
>>>>>>> f6031340e4b112c58bf82ae3d95ff7531dd72b01
    }
   },
   "outputs": [],
   "source": [
    "import pandas as pd\n",
    "import inflection\n",
    "import math\n",
    "import numpy as np\n",
    "import seaborn as sns\n",
    "from matplotlib import pyplot as plt\n",
    "import datetime\n",
    "\n",
    "from IPython.core.display import HTML\n",
    "from IPython.display import Image"
   ]
  },
  {
   "cell_type": "markdown",
   "id": "f43f1076",
   "metadata": {
    "ExecuteTime": {
     "end_time": "2022-12-14T18:21:54.426261Z",
     "start_time": "2022-12-14T18:21:54.403005Z"
    }
   },
   "source": [
    "## 0.1. Helper Functions"
   ]
  },
  {
   "cell_type": "code",
   "execution_count": null,
   "id": "b903fb7d",
   "metadata": {},
   "outputs": [],
   "source": []
  },
  {
   "cell_type": "markdown",
   "id": "53c49eb8",
   "metadata": {},
   "source": [
    "## 0.2. Loading Data"
   ]
  },
  {
   "cell_type": "code",
<<<<<<< HEAD
   "execution_count": 32,
   "id": "2db32add",
   "metadata": {
    "ExecuteTime": {
     "end_time": "2022-12-16T01:24:07.267394Z",
     "start_time": "2022-12-16T01:24:05.652179Z"
=======
   "execution_count": 3,
   "id": "2db32add",
   "metadata": {
    "ExecuteTime": {
     "end_time": "2022-12-15T17:44:10.478455Z",
     "start_time": "2022-12-15T17:44:08.661089Z"
>>>>>>> f6031340e4b112c58bf82ae3d95ff7531dd72b01
    }
   },
   "outputs": [],
   "source": [
<<<<<<< HEAD
    "df_sales_raw = pd.read_csv('C:/Users/pedro/OneDrive/Documentos/CURSOS/Data Scientist em Produção/Rossmann/train.csv', low_memory=False)\n",
    "df_store_raw = pd.read_csv('C:/Users/pedro/OneDrive/Documentos/CURSOS/Data Scientist em Produção/Rossmann/store.csv', low_memory=False)\n",
=======
    "df_sales_raw = pd.read_csv('C:/Users/pedro/Data Scientist em Produção/data/train.csv', low_memory=False)\n",
    "df_store_raw = pd.read_csv('C:/Users/pedro/Data Scientist em Produção/data/store.csv', low_memory=False)\n",
>>>>>>> f6031340e4b112c58bf82ae3d95ff7531dd72b01
    "\n",
    "#merge\n",
    "df_raw = pd.merge(df_sales_raw, df_store_raw, how='left', on='Store')"
   ]
  },
  {
   "cell_type": "markdown",
   "id": "f09191b9",
<<<<<<< HEAD
   "metadata": {},
=======
   "metadata": {
    "heading_collapsed": true
   },
>>>>>>> f6031340e4b112c58bf82ae3d95ff7531dd72b01
   "source": [
    "# 1.0. PASSO 01 - DESCRIÇÃO DOS DADOS"
   ]
  },
  {
   "cell_type": "code",
<<<<<<< HEAD
   "execution_count": 9,
   "id": "c3cd237b",
   "metadata": {
    "ExecuteTime": {
     "end_time": "2022-12-16T00:44:52.345030Z",
     "start_time": "2022-12-16T00:44:52.066075Z"
    }
=======
   "execution_count": 4,
   "id": "c3cd237b",
   "metadata": {
    "ExecuteTime": {
     "end_time": "2022-12-15T17:44:10.759418Z",
     "start_time": "2022-12-15T17:44:10.482447Z"
    },
    "hidden": true
>>>>>>> f6031340e4b112c58bf82ae3d95ff7531dd72b01
   },
   "outputs": [],
   "source": [
    "df1 = df_raw.copy()           #copiar os dados para caso aconteça um erro não precisa ir até o inicio e rodar de novo"
   ]
  },
  {
   "cell_type": "markdown",
   "id": "259c72eb",
<<<<<<< HEAD
   "metadata": {},
=======
   "metadata": {
    "hidden": true
   },
>>>>>>> f6031340e4b112c58bf82ae3d95ff7531dd72b01
   "source": [
    "## 1.1. Rename Colums"
   ]
  },
  {
   "cell_type": "code",
<<<<<<< HEAD
   "execution_count": 10,
   "id": "986aeaf1",
   "metadata": {
    "ExecuteTime": {
     "end_time": "2022-12-16T00:44:52.360989Z",
     "start_time": "2022-12-16T00:44:52.349987Z"
    }
=======
   "execution_count": 5,
   "id": "986aeaf1",
   "metadata": {
    "ExecuteTime": {
     "end_time": "2022-12-15T17:44:10.775281Z",
     "start_time": "2022-12-15T17:44:10.765622Z"
    },
    "hidden": true
>>>>>>> f6031340e4b112c58bf82ae3d95ff7531dd72b01
   },
   "outputs": [],
   "source": [
    "cols_old = ['Store', 'DayOfWeek', 'Date', 'Sales', 'Customers', 'Open', 'Promo', 'StateHoliday', 'SchoolHoliday', 'StoreType',\n",
    "            'Assortment','CompetitionDistance', 'CompetitionOpenSinceMonth', 'CompetitionOpenSinceYear', 'Promo2', \n",
    "            'Promo2SinceWeek', 'Promo2SinceYear', 'PromoInterval']\n",
    "\n",
    "snakecase = lambda x: inflection.underscore(x)\n",
    "\n",
    "cols_new = list(map(snakecase, cols_old))\n",
    "\n",
    "# rename\n",
    "df1.columns = cols_new"
   ]
  },
  {
   "cell_type": "markdown",
   "id": "11ef2923",
<<<<<<< HEAD
   "metadata": {},
=======
   "metadata": {
    "hidden": true
   },
>>>>>>> f6031340e4b112c58bf82ae3d95ff7531dd72b01
   "source": [
    "## 1.2. Data Dimensions"
   ]
  },
  {
   "cell_type": "code",
<<<<<<< HEAD
   "execution_count": 11,
   "id": "edda21bc",
   "metadata": {
    "ExecuteTime": {
     "end_time": "2022-12-16T00:44:52.470619Z",
     "start_time": "2022-12-16T00:44:52.364506Z"
    }
=======
   "execution_count": 6,
   "id": "edda21bc",
   "metadata": {
    "ExecuteTime": {
     "end_time": "2022-12-15T17:44:10.791238Z",
     "start_time": "2022-12-15T17:44:10.777276Z"
    },
    "hidden": true
>>>>>>> f6031340e4b112c58bf82ae3d95ff7531dd72b01
   },
   "outputs": [
    {
     "name": "stdout",
     "output_type": "stream",
     "text": [
      "Number os Rows: 1017209\n",
      "Number os Colss: 18\n"
     ]
    }
   ],
   "source": [
    "print('Number os Rows: {}'.format(df1.shape[0]))\n",
    "print('Number os Colss: {}'.format(df1.shape[1]))"
   ]
  },
  {
   "cell_type": "markdown",
   "id": "87ade2c1",
   "metadata": {
    "ExecuteTime": {
     "end_time": "2022-12-14T18:42:39.380202Z",
     "start_time": "2022-12-14T18:42:39.375213Z"
    },
<<<<<<< HEAD
    "heading_collapsed": true
=======
    "heading_collapsed": true,
    "hidden": true
>>>>>>> f6031340e4b112c58bf82ae3d95ff7531dd72b01
   },
   "source": [
    "## 1.3. Data Types"
   ]
  },
  {
   "cell_type": "code",
<<<<<<< HEAD
   "execution_count": 12,
   "id": "f8454cea",
   "metadata": {
    "ExecuteTime": {
     "end_time": "2022-12-16T00:44:52.847754Z",
     "start_time": "2022-12-16T00:44:52.475562Z"
=======
   "execution_count": 7,
   "id": "f8454cea",
   "metadata": {
    "ExecuteTime": {
     "end_time": "2022-12-15T17:44:11.087117Z",
     "start_time": "2022-12-15T17:44:10.796227Z"
>>>>>>> f6031340e4b112c58bf82ae3d95ff7531dd72b01
    },
    "hidden": true
   },
   "outputs": [
    {
     "data": {
      "text/plain": [
       "store                                    int64\n",
       "day_of_week                              int64\n",
       "date                            datetime64[ns]\n",
       "sales                                    int64\n",
       "customers                                int64\n",
       "open                                     int64\n",
       "promo                                    int64\n",
       "state_holiday                           object\n",
       "school_holiday                           int64\n",
       "store_type                              object\n",
       "assortment                              object\n",
       "competition_distance                   float64\n",
       "competition_open_since_month           float64\n",
       "competition_open_since_year            float64\n",
       "promo2                                   int64\n",
       "promo2_since_week                      float64\n",
       "promo2_since_year                      float64\n",
       "promo_interval                          object\n",
       "dtype: object"
      ]
     },
<<<<<<< HEAD
     "execution_count": 12,
=======
     "execution_count": 7,
>>>>>>> f6031340e4b112c58bf82ae3d95ff7531dd72b01
     "metadata": {},
     "output_type": "execute_result"
    }
   ],
   "source": [
    "df1['date'] = pd.to_datetime(df1['date'])\n",
    "df1.dtypes"
   ]
  },
  {
   "cell_type": "markdown",
   "id": "9a51a8d1",
   "metadata": {
<<<<<<< HEAD
    "heading_collapsed": true
=======
    "heading_collapsed": true,
    "hidden": true
>>>>>>> f6031340e4b112c58bf82ae3d95ff7531dd72b01
   },
   "source": [
    "## 1.4. Check NA"
   ]
  },
  {
   "cell_type": "code",
<<<<<<< HEAD
   "execution_count": 13,
   "id": "961c6ffd",
   "metadata": {
    "ExecuteTime": {
     "end_time": "2022-12-16T00:44:53.827002Z",
     "start_time": "2022-12-16T00:44:52.851643Z"
=======
   "execution_count": 8,
   "id": "961c6ffd",
   "metadata": {
    "ExecuteTime": {
     "end_time": "2022-12-15T17:44:12.171837Z",
     "start_time": "2022-12-15T17:44:11.090107Z"
>>>>>>> f6031340e4b112c58bf82ae3d95ff7531dd72b01
    },
    "hidden": true
   },
   "outputs": [
    {
     "data": {
      "text/plain": [
       "store                                0\n",
       "day_of_week                          0\n",
       "date                                 0\n",
       "sales                                0\n",
       "customers                            0\n",
       "open                                 0\n",
       "promo                                0\n",
       "state_holiday                        0\n",
       "school_holiday                       0\n",
       "store_type                           0\n",
       "assortment                           0\n",
       "competition_distance              2642\n",
       "competition_open_since_month    323348\n",
       "competition_open_since_year     323348\n",
       "promo2                               0\n",
       "promo2_since_week               508031\n",
       "promo2_since_year               508031\n",
       "promo_interval                  508031\n",
       "dtype: int64"
      ]
     },
<<<<<<< HEAD
     "execution_count": 13,
=======
     "execution_count": 8,
>>>>>>> f6031340e4b112c58bf82ae3d95ff7531dd72b01
     "metadata": {},
     "output_type": "execute_result"
    }
   ],
   "source": [
    "df1.isna().sum()"
   ]
  },
  {
   "cell_type": "markdown",
   "id": "5ecd2cb9",
   "metadata": {
<<<<<<< HEAD
    "heading_collapsed": true
=======
    "heading_collapsed": true,
    "hidden": true
>>>>>>> f6031340e4b112c58bf82ae3d95ff7531dd72b01
   },
   "source": [
    "## 1.5. Fillout NA"
   ]
  },
  {
   "cell_type": "code",
<<<<<<< HEAD
   "execution_count": 14,
   "id": "2ae6c4d4",
   "metadata": {
    "ExecuteTime": {
     "end_time": "2022-12-16T00:46:25.687833Z",
     "start_time": "2022-12-16T00:44:53.828909Z"
=======
   "execution_count": 9,
   "id": "2ae6c4d4",
   "metadata": {
    "ExecuteTime": {
     "end_time": "2022-12-15T17:45:48.130192Z",
     "start_time": "2022-12-15T17:44:12.174862Z"
>>>>>>> f6031340e4b112c58bf82ae3d95ff7531dd72b01
    },
    "hidden": true
   },
   "outputs": [],
   "source": [
    "#competition_distance  \n",
    "df1['competition_distance'] = df1['competition_distance'].apply(lambda x: 200000.0 if math.isnan(x) else x)\n",
    "\n",
    "#competition_open_since_month   \n",
    "\n",
    "df1['competition_open_since_month'] = df1.apply(lambda x: x['date'].month if math.isnan(x['competition_open_since_month'])\n",
    "                                                else x['competition_open_since_month'], axis=1)\n",
    "\n",
    "#competition_open_since_year    \n",
    "df1['competition_open_since_year'] = df1.apply(lambda x: x['date'].year if math.isnan(x['competition_open_since_year'])\n",
    "                                               else x['competition_open_since_year'], axis=1)\n",
    "\n",
    "#promo2_since_week    \n",
    "df1['promo2_since_week'] = df1.apply(lambda x: x['date'].week if math.isnan(x['promo2_since_week'])\n",
    "                                               else x['promo2_since_week'], axis=1)\n",
    "#promo2_since_year   \n",
    "df1['promo2_since_year'] = df1.apply(lambda x: x['date'].year if math.isnan(x['promo2_since_year'])\n",
    "                                               else x['promo2_since_year'], axis=1)\n",
    "\n",
    "#promo_interval    \n",
    "\n",
    "month_map = {1: 'Jan', 2: 'Feb', 3: 'Mar', 4: 'Apr', 5: 'May', 6: 'Jun', 7: 'Jul', 8: 'Aug', 9: 'Sep', 10: 'Oct', \n",
    "             11: 'Nov', 12: 'Dec'}\n",
    "\n",
    "df1['promo_interval'].fillna(0, inplace=True)\n",
    "\n",
    "df1['month_map'] = df1['date'].dt.month.map(month_map)\n",
    "\n",
    "df1['is_promo'] = df1[['promo_interval', 'month_map']].apply(lambda x: 0 if x['promo_interval'] == 0\n",
    "                                                            else 1 if x['month_map'] in x['promo_interval'].split(',')\n",
    "                                                            else 0, axis=1)\n"
   ]
  },
  {
   "cell_type": "code",
<<<<<<< HEAD
   "execution_count": 15,
   "id": "c44b315c",
   "metadata": {
    "ExecuteTime": {
     "end_time": "2022-12-16T00:46:26.937742Z",
     "start_time": "2022-12-16T00:46:25.690973Z"
=======
   "execution_count": 10,
   "id": "c44b315c",
   "metadata": {
    "ExecuteTime": {
     "end_time": "2022-12-15T17:45:49.293231Z",
     "start_time": "2022-12-15T17:45:48.133336Z"
>>>>>>> f6031340e4b112c58bf82ae3d95ff7531dd72b01
    },
    "hidden": true
   },
   "outputs": [
    {
     "data": {
      "text/plain": [
       "store                           0\n",
       "day_of_week                     0\n",
       "date                            0\n",
       "sales                           0\n",
       "customers                       0\n",
       "open                            0\n",
       "promo                           0\n",
       "state_holiday                   0\n",
       "school_holiday                  0\n",
       "store_type                      0\n",
       "assortment                      0\n",
       "competition_distance            0\n",
       "competition_open_since_month    0\n",
       "competition_open_since_year     0\n",
       "promo2                          0\n",
       "promo2_since_week               0\n",
       "promo2_since_year               0\n",
       "promo_interval                  0\n",
       "month_map                       0\n",
       "is_promo                        0\n",
       "dtype: int64"
      ]
     },
<<<<<<< HEAD
     "execution_count": 15,
=======
     "execution_count": 10,
>>>>>>> f6031340e4b112c58bf82ae3d95ff7531dd72b01
     "metadata": {},
     "output_type": "execute_result"
    }
   ],
   "source": [
    "df1.isna().sum()"
   ]
  },
  {
   "cell_type": "markdown",
   "id": "c04842b4",
   "metadata": {
<<<<<<< HEAD
    "heading_collapsed": true
=======
    "heading_collapsed": true,
    "hidden": true
>>>>>>> f6031340e4b112c58bf82ae3d95ff7531dd72b01
   },
   "source": [
    "## 1.6. Change Types"
   ]
  },
  {
   "cell_type": "code",
<<<<<<< HEAD
   "execution_count": 16,
   "id": "b1e8b0c3",
   "metadata": {
    "ExecuteTime": {
     "end_time": "2022-12-16T00:46:27.359717Z",
     "start_time": "2022-12-16T00:46:26.945720Z"
=======
   "execution_count": 11,
   "id": "b1e8b0c3",
   "metadata": {
    "ExecuteTime": {
     "end_time": "2022-12-15T17:45:49.699491Z",
     "start_time": "2022-12-15T17:45:49.300536Z"
>>>>>>> f6031340e4b112c58bf82ae3d95ff7531dd72b01
    },
    "hidden": true
   },
   "outputs": [],
   "source": [
    "#df1['competition_open_since_month'] = df1['competition_open_since_month'].astype(int)   ## nesse método mudou para int32\n",
    "df1 = df1.astype({\"competition_open_since_month\": np.dtype(\"int64\")})\n",
    "\n",
    "#df1['competition_open_since_year'] = df1['competition_open_since_year'].astype(int)\n",
    "df1 = df1.astype({\"competition_open_since_year\": np.dtype(\"int64\")})\n",
    "\n",
    "#df1['promo2_since_week'] = df1['promo2_since_week'].astype(int)\n",
    "df1 = df1.astype({\"promo2_since_week\": np.dtype(\"int64\")})\n",
    "\n",
    "#df1['promo2_since_year'] = df1['promo2_since_year'].astype(int)\n",
    "df1 = df1.astype({\"promo2_since_year\": np.dtype(\"int64\")})\n",
    "\n",
    "\n"
   ]
  },
  {
   "cell_type": "code",
<<<<<<< HEAD
   "execution_count": 17,
   "id": "985720b5",
   "metadata": {
    "ExecuteTime": {
     "end_time": "2022-12-16T00:46:27.375294Z",
     "start_time": "2022-12-16T00:46:27.362721Z"
=======
   "execution_count": 12,
   "id": "985720b5",
   "metadata": {
    "ExecuteTime": {
     "end_time": "2022-12-15T17:45:49.715515Z",
     "start_time": "2022-12-15T17:45:49.702893Z"
>>>>>>> f6031340e4b112c58bf82ae3d95ff7531dd72b01
    },
    "hidden": true
   },
   "outputs": [
    {
     "data": {
      "text/plain": [
       "store                                    int64\n",
       "day_of_week                              int64\n",
       "date                            datetime64[ns]\n",
       "sales                                    int64\n",
       "customers                                int64\n",
       "open                                     int64\n",
       "promo                                    int64\n",
       "state_holiday                           object\n",
       "school_holiday                           int64\n",
       "store_type                              object\n",
       "assortment                              object\n",
       "competition_distance                   float64\n",
       "competition_open_since_month             int64\n",
       "competition_open_since_year              int64\n",
       "promo2                                   int64\n",
       "promo2_since_week                        int64\n",
       "promo2_since_year                        int64\n",
       "promo_interval                          object\n",
       "month_map                               object\n",
       "is_promo                                 int64\n",
       "dtype: object"
      ]
     },
<<<<<<< HEAD
     "execution_count": 17,
=======
     "execution_count": 12,
>>>>>>> f6031340e4b112c58bf82ae3d95ff7531dd72b01
     "metadata": {},
     "output_type": "execute_result"
    }
   ],
   "source": [
    "df1.dtypes"
   ]
  },
  {
   "cell_type": "markdown",
   "id": "a3ef15d5",
<<<<<<< HEAD
   "metadata": {},
=======
   "metadata": {
    "hidden": true
   },
>>>>>>> f6031340e4b112c58bf82ae3d95ff7531dd72b01
   "source": [
    "## 1.7. Descriptive Statistical "
   ]
  },
  {
   "cell_type": "code",
<<<<<<< HEAD
   "execution_count": 18,
   "id": "240b012b",
   "metadata": {
    "ExecuteTime": {
     "end_time": "2022-12-16T00:46:27.624501Z",
     "start_time": "2022-12-16T00:46:27.378512Z"
    }
=======
   "execution_count": 13,
   "id": "240b012b",
   "metadata": {
    "ExecuteTime": {
     "end_time": "2022-12-15T17:45:49.934864Z",
     "start_time": "2022-12-15T17:45:49.718488Z"
    },
    "hidden": true
>>>>>>> f6031340e4b112c58bf82ae3d95ff7531dd72b01
   },
   "outputs": [],
   "source": [
    "num_attributes = df1.select_dtypes(include=['int64', 'float64'])\n",
    "cat_attributes = df1.select_dtypes(exclude=['int64', 'float64', 'datetime64[ns]'])"
   ]
  },
  {
   "cell_type": "code",
<<<<<<< HEAD
   "execution_count": 19,
   "id": "7bd4d03f",
   "metadata": {
    "ExecuteTime": {
     "end_time": "2022-12-16T00:46:27.702271Z",
     "start_time": "2022-12-16T00:46:27.628005Z"
    }
=======
   "execution_count": 14,
   "id": "7bd4d03f",
   "metadata": {
    "ExecuteTime": {
     "end_time": "2022-12-15T17:45:50.013596Z",
     "start_time": "2022-12-15T17:45:49.938383Z"
    },
    "hidden": true
>>>>>>> f6031340e4b112c58bf82ae3d95ff7531dd72b01
   },
   "outputs": [
    {
     "data": {
      "text/html": [
       "<div>\n",
       "<style scoped>\n",
       "    .dataframe tbody tr th:only-of-type {\n",
       "        vertical-align: middle;\n",
       "    }\n",
       "\n",
       "    .dataframe tbody tr th {\n",
       "        vertical-align: top;\n",
       "    }\n",
       "\n",
       "    .dataframe thead th {\n",
       "        text-align: right;\n",
       "    }\n",
       "</style>\n",
       "<table border=\"1\" class=\"dataframe\">\n",
       "  <thead>\n",
       "    <tr style=\"text-align: right;\">\n",
       "      <th></th>\n",
       "      <th>store</th>\n",
       "      <th>day_of_week</th>\n",
       "      <th>sales</th>\n",
       "      <th>customers</th>\n",
       "      <th>open</th>\n",
       "      <th>promo</th>\n",
       "      <th>school_holiday</th>\n",
       "      <th>competition_distance</th>\n",
       "      <th>competition_open_since_month</th>\n",
       "      <th>competition_open_since_year</th>\n",
       "      <th>promo2</th>\n",
       "      <th>promo2_since_week</th>\n",
       "      <th>promo2_since_year</th>\n",
       "      <th>is_promo</th>\n",
       "    </tr>\n",
       "  </thead>\n",
       "  <tbody>\n",
       "    <tr>\n",
<<<<<<< HEAD
       "      <th>205047</th>\n",
       "      <td>1003</td>\n",
       "      <td>4</td>\n",
       "      <td>7748</td>\n",
       "      <td>730</td>\n",
       "      <td>1</td>\n",
       "      <td>1</td>\n",
       "      <td>0</td>\n",
       "      <td>170.0</td>\n",
       "      <td>7</td>\n",
       "      <td>2013</td>\n",
       "      <td>1</td>\n",
       "      <td>27</td>\n",
       "      <td>2013</td>\n",
       "      <td>1</td>\n",
       "    </tr>\n",
       "    <tr>\n",
       "      <th>584093</th>\n",
       "      <td>619</td>\n",
       "      <td>5</td>\n",
       "      <td>4676</td>\n",
       "      <td>474</td>\n",
       "      <td>1</td>\n",
       "      <td>1</td>\n",
       "      <td>0</td>\n",
       "      <td>1600.0</td>\n",
       "      <td>6</td>\n",
       "      <td>2006</td>\n",
       "      <td>1</td>\n",
       "      <td>45</td>\n",
       "      <td>2009</td>\n",
=======
       "      <th>397339</th>\n",
       "      <td>173</td>\n",
       "      <td>6</td>\n",
       "      <td>7369</td>\n",
       "      <td>845</td>\n",
       "      <td>1</td>\n",
       "      <td>0</td>\n",
       "      <td>0</td>\n",
       "      <td>350.0</td>\n",
       "      <td>12</td>\n",
       "      <td>2012</td>\n",
       "      <td>0</td>\n",
       "      <td>28</td>\n",
       "      <td>2014</td>\n",
       "      <td>0</td>\n",
       "    </tr>\n",
       "    <tr>\n",
       "      <th>18065</th>\n",
       "      <td>226</td>\n",
       "      <td>3</td>\n",
       "      <td>7495</td>\n",
       "      <td>700</td>\n",
       "      <td>1</td>\n",
       "      <td>1</td>\n",
       "      <td>0</td>\n",
       "      <td>450.0</td>\n",
       "      <td>7</td>\n",
       "      <td>2015</td>\n",
       "      <td>0</td>\n",
       "      <td>29</td>\n",
       "      <td>2015</td>\n",
>>>>>>> f6031340e4b112c58bf82ae3d95ff7531dd72b01
       "      <td>0</td>\n",
       "    </tr>\n",
       "  </tbody>\n",
       "</table>\n",
       "</div>"
      ],
      "text/plain": [
       "        store  day_of_week  sales  customers  open  promo  school_holiday  \\\n",
<<<<<<< HEAD
       "205047   1003            4   7748        730     1      1               0   \n",
       "584093    619            5   4676        474     1      1               0   \n",
       "\n",
       "        competition_distance  competition_open_since_month  \\\n",
       "205047                 170.0                             7   \n",
       "584093                1600.0                             6   \n",
       "\n",
       "        competition_open_since_year  promo2  promo2_since_week  \\\n",
       "205047                         2013       1                 27   \n",
       "584093                         2006       1                 45   \n",
       "\n",
       "        promo2_since_year  is_promo  \n",
       "205047               2013         1  \n",
       "584093               2009         0  "
      ]
     },
     "execution_count": 19,
=======
       "397339    173            6   7369        845     1      0               0   \n",
       "18065     226            3   7495        700     1      1               0   \n",
       "\n",
       "        competition_distance  competition_open_since_month  \\\n",
       "397339                 350.0                            12   \n",
       "18065                  450.0                             7   \n",
       "\n",
       "        competition_open_since_year  promo2  promo2_since_week  \\\n",
       "397339                         2012       0                 28   \n",
       "18065                          2015       0                 29   \n",
       "\n",
       "        promo2_since_year  is_promo  \n",
       "397339               2014         0  \n",
       "18065                2015         0  "
      ]
     },
     "execution_count": 14,
>>>>>>> f6031340e4b112c58bf82ae3d95ff7531dd72b01
     "metadata": {},
     "output_type": "execute_result"
    }
   ],
   "source": [
    "num_attributes.sample(2)"
   ]
  },
  {
   "cell_type": "markdown",
   "id": "5e749235",
   "metadata": {
    "ExecuteTime": {
     "end_time": "2022-12-15T15:58:51.155979Z",
     "start_time": "2022-12-15T15:58:51.151247Z"
<<<<<<< HEAD
    }
=======
    },
    "hidden": true
>>>>>>> f6031340e4b112c58bf82ae3d95ff7531dd72b01
   },
   "source": [
    "### 1.7.1. Numerical Attributes"
   ]
  },
  {
   "cell_type": "code",
<<<<<<< HEAD
   "execution_count": 20,
   "id": "01339560",
   "metadata": {
    "ExecuteTime": {
     "end_time": "2022-12-16T00:46:32.149286Z",
     "start_time": "2022-12-16T00:46:27.705653Z"
    }
=======
   "execution_count": 15,
   "id": "01339560",
   "metadata": {
    "ExecuteTime": {
     "end_time": "2022-12-15T17:45:55.131830Z",
     "start_time": "2022-12-15T17:45:50.017566Z"
    },
    "hidden": true
>>>>>>> f6031340e4b112c58bf82ae3d95ff7531dd72b01
   },
   "outputs": [
    {
     "data": {
      "text/html": [
       "<div>\n",
       "<style scoped>\n",
       "    .dataframe tbody tr th:only-of-type {\n",
       "        vertical-align: middle;\n",
       "    }\n",
       "\n",
       "    .dataframe tbody tr th {\n",
       "        vertical-align: top;\n",
       "    }\n",
       "\n",
       "    .dataframe thead th {\n",
       "        text-align: right;\n",
       "    }\n",
       "</style>\n",
       "<table border=\"1\" class=\"dataframe\">\n",
       "  <thead>\n",
       "    <tr style=\"text-align: right;\">\n",
       "      <th></th>\n",
       "      <th>attributes</th>\n",
       "      <th>min</th>\n",
       "      <th>max</th>\n",
       "      <th>range</th>\n",
       "      <th>mean</th>\n",
       "      <th>median</th>\n",
       "      <th>std</th>\n",
       "      <th>skew</th>\n",
       "      <th>kurtosis</th>\n",
       "    </tr>\n",
       "  </thead>\n",
       "  <tbody>\n",
       "    <tr>\n",
       "      <th>0</th>\n",
       "      <td>store</td>\n",
       "      <td>1.0</td>\n",
       "      <td>1115.0</td>\n",
       "      <td>1114.0</td>\n",
       "      <td>558.429727</td>\n",
       "      <td>558.0</td>\n",
       "      <td>321.908493</td>\n",
       "      <td>-0.000955</td>\n",
       "      <td>-1.200524</td>\n",
       "    </tr>\n",
       "    <tr>\n",
       "      <th>1</th>\n",
       "      <td>day_of_week</td>\n",
       "      <td>1.0</td>\n",
       "      <td>7.0</td>\n",
       "      <td>6.0</td>\n",
       "      <td>3.998341</td>\n",
       "      <td>4.0</td>\n",
       "      <td>1.997390</td>\n",
       "      <td>0.001593</td>\n",
       "      <td>-1.246873</td>\n",
       "    </tr>\n",
       "    <tr>\n",
       "      <th>2</th>\n",
       "      <td>sales</td>\n",
       "      <td>0.0</td>\n",
       "      <td>41551.0</td>\n",
       "      <td>41551.0</td>\n",
       "      <td>5773.818972</td>\n",
       "      <td>5744.0</td>\n",
       "      <td>3849.924283</td>\n",
       "      <td>0.641460</td>\n",
       "      <td>1.778375</td>\n",
       "    </tr>\n",
       "    <tr>\n",
       "      <th>3</th>\n",
       "      <td>customers</td>\n",
       "      <td>0.0</td>\n",
       "      <td>7388.0</td>\n",
       "      <td>7388.0</td>\n",
       "      <td>633.145946</td>\n",
       "      <td>609.0</td>\n",
       "      <td>464.411506</td>\n",
       "      <td>1.598650</td>\n",
       "      <td>7.091773</td>\n",
       "    </tr>\n",
       "    <tr>\n",
       "      <th>4</th>\n",
       "      <td>open</td>\n",
       "      <td>0.0</td>\n",
       "      <td>1.0</td>\n",
       "      <td>1.0</td>\n",
       "      <td>0.830107</td>\n",
       "      <td>1.0</td>\n",
       "      <td>0.375539</td>\n",
       "      <td>-1.758045</td>\n",
       "      <td>1.090723</td>\n",
       "    </tr>\n",
       "    <tr>\n",
       "      <th>5</th>\n",
       "      <td>promo</td>\n",
       "      <td>0.0</td>\n",
       "      <td>1.0</td>\n",
       "      <td>1.0</td>\n",
       "      <td>0.381515</td>\n",
       "      <td>0.0</td>\n",
       "      <td>0.485758</td>\n",
       "      <td>0.487838</td>\n",
       "      <td>-1.762018</td>\n",
       "    </tr>\n",
       "    <tr>\n",
       "      <th>6</th>\n",
       "      <td>school_holiday</td>\n",
       "      <td>0.0</td>\n",
       "      <td>1.0</td>\n",
       "      <td>1.0</td>\n",
       "      <td>0.178647</td>\n",
       "      <td>0.0</td>\n",
       "      <td>0.383056</td>\n",
       "      <td>1.677842</td>\n",
       "      <td>0.815154</td>\n",
       "    </tr>\n",
       "    <tr>\n",
       "      <th>7</th>\n",
       "      <td>competition_distance</td>\n",
       "      <td>20.0</td>\n",
       "      <td>200000.0</td>\n",
       "      <td>199980.0</td>\n",
       "      <td>5935.442677</td>\n",
       "      <td>2330.0</td>\n",
       "      <td>12547.646829</td>\n",
       "      <td>10.242344</td>\n",
       "      <td>147.789712</td>\n",
       "    </tr>\n",
       "    <tr>\n",
       "      <th>8</th>\n",
       "      <td>competition_open_since_month</td>\n",
       "      <td>1.0</td>\n",
       "      <td>12.0</td>\n",
       "      <td>11.0</td>\n",
       "      <td>6.786849</td>\n",
       "      <td>7.0</td>\n",
       "      <td>3.311085</td>\n",
       "      <td>-0.042076</td>\n",
       "      <td>-1.232607</td>\n",
       "    </tr>\n",
       "    <tr>\n",
       "      <th>9</th>\n",
       "      <td>competition_open_since_year</td>\n",
       "      <td>1900.0</td>\n",
       "      <td>2015.0</td>\n",
       "      <td>115.0</td>\n",
       "      <td>2010.324840</td>\n",
       "      <td>2012.0</td>\n",
       "      <td>5.515591</td>\n",
       "      <td>-7.235657</td>\n",
       "      <td>124.071304</td>\n",
       "    </tr>\n",
       "    <tr>\n",
       "      <th>10</th>\n",
       "      <td>promo2</td>\n",
       "      <td>0.0</td>\n",
       "      <td>1.0</td>\n",
       "      <td>1.0</td>\n",
       "      <td>0.500564</td>\n",
       "      <td>1.0</td>\n",
       "      <td>0.500000</td>\n",
       "      <td>-0.002255</td>\n",
       "      <td>-1.999999</td>\n",
       "    </tr>\n",
       "    <tr>\n",
       "      <th>11</th>\n",
       "      <td>promo2_since_week</td>\n",
       "      <td>1.0</td>\n",
       "      <td>52.0</td>\n",
       "      <td>51.0</td>\n",
       "      <td>23.619033</td>\n",
       "      <td>22.0</td>\n",
       "      <td>14.310057</td>\n",
       "      <td>0.178723</td>\n",
       "      <td>-1.184046</td>\n",
       "    </tr>\n",
       "    <tr>\n",
       "      <th>12</th>\n",
       "      <td>promo2_since_year</td>\n",
       "      <td>2009.0</td>\n",
       "      <td>2015.0</td>\n",
       "      <td>6.0</td>\n",
       "      <td>2012.793297</td>\n",
       "      <td>2013.0</td>\n",
       "      <td>1.662657</td>\n",
       "      <td>-0.784436</td>\n",
       "      <td>-0.210075</td>\n",
       "    </tr>\n",
       "    <tr>\n",
       "      <th>13</th>\n",
       "      <td>is_promo</td>\n",
       "      <td>0.0</td>\n",
       "      <td>1.0</td>\n",
       "      <td>1.0</td>\n",
       "      <td>0.165966</td>\n",
       "      <td>0.0</td>\n",
       "      <td>0.372050</td>\n",
       "      <td>1.795644</td>\n",
       "      <td>1.224338</td>\n",
       "    </tr>\n",
       "  </tbody>\n",
       "</table>\n",
       "</div>"
      ],
      "text/plain": [
       "                      attributes     min       max     range         mean  \\\n",
       "0                          store     1.0    1115.0    1114.0   558.429727   \n",
       "1                    day_of_week     1.0       7.0       6.0     3.998341   \n",
       "2                          sales     0.0   41551.0   41551.0  5773.818972   \n",
       "3                      customers     0.0    7388.0    7388.0   633.145946   \n",
       "4                           open     0.0       1.0       1.0     0.830107   \n",
       "5                          promo     0.0       1.0       1.0     0.381515   \n",
       "6                 school_holiday     0.0       1.0       1.0     0.178647   \n",
       "7           competition_distance    20.0  200000.0  199980.0  5935.442677   \n",
       "8   competition_open_since_month     1.0      12.0      11.0     6.786849   \n",
       "9    competition_open_since_year  1900.0    2015.0     115.0  2010.324840   \n",
       "10                        promo2     0.0       1.0       1.0     0.500564   \n",
       "11             promo2_since_week     1.0      52.0      51.0    23.619033   \n",
       "12             promo2_since_year  2009.0    2015.0       6.0  2012.793297   \n",
       "13                      is_promo     0.0       1.0       1.0     0.165966   \n",
       "\n",
       "    median           std       skew    kurtosis  \n",
       "0    558.0    321.908493  -0.000955   -1.200524  \n",
       "1      4.0      1.997390   0.001593   -1.246873  \n",
       "2   5744.0   3849.924283   0.641460    1.778375  \n",
       "3    609.0    464.411506   1.598650    7.091773  \n",
       "4      1.0      0.375539  -1.758045    1.090723  \n",
       "5      0.0      0.485758   0.487838   -1.762018  \n",
       "6      0.0      0.383056   1.677842    0.815154  \n",
       "7   2330.0  12547.646829  10.242344  147.789712  \n",
       "8      7.0      3.311085  -0.042076   -1.232607  \n",
       "9   2012.0      5.515591  -7.235657  124.071304  \n",
       "10     1.0      0.500000  -0.002255   -1.999999  \n",
       "11    22.0     14.310057   0.178723   -1.184046  \n",
       "12  2013.0      1.662657  -0.784436   -0.210075  \n",
       "13     0.0      0.372050   1.795644    1.224338  "
      ]
     },
<<<<<<< HEAD
     "execution_count": 20,
=======
     "execution_count": 15,
>>>>>>> f6031340e4b112c58bf82ae3d95ff7531dd72b01
     "metadata": {},
     "output_type": "execute_result"
    }
   ],
   "source": [
    "# Central Tendency - mean, median\n",
    "ct1 = pd.DataFrame(num_attributes.apply(np.mean)).T\n",
    "ct2 = pd.DataFrame(num_attributes.apply(np.median)).T\n",
    "\n",
    "# Dipersion - std, min, max, range, skew, kurtosis\n",
    "d1 = pd.DataFrame(num_attributes.apply(np.std)).T\n",
    "d2 = pd.DataFrame(num_attributes.apply(min)).T\n",
    "d3 = pd.DataFrame(num_attributes.apply(max)).T\n",
    "d4 = pd.DataFrame(num_attributes.apply(lambda x: x.max() - x.min())).T\n",
    "d5 = pd.DataFrame(num_attributes.apply(lambda x: x.skew())).T\n",
    "d6 = pd.DataFrame(num_attributes.apply(lambda x: x.kurtosis())).T\n",
    "\n",
    "# concatenate\n",
    "m = pd.concat([d2, d3, d4, ct1, ct2, d1, d5, d6]).T.reset_index()\n",
    "m.columns = (['attributes', 'min', 'max', 'range', 'mean', 'median', 'std', 'skew', 'kurtosis'])\n",
    "\n",
    "m"
   ]
  },
  {
   "cell_type": "code",
<<<<<<< HEAD
   "execution_count": 21,
   "id": "04a67b2e",
   "metadata": {
    "ExecuteTime": {
     "end_time": "2022-12-16T00:46:51.822946Z",
     "start_time": "2022-12-16T00:46:32.151280Z"
    }
=======
   "execution_count": 16,
   "id": "04a67b2e",
   "metadata": {
    "ExecuteTime": {
     "end_time": "2022-12-15T17:46:15.108152Z",
     "start_time": "2022-12-15T17:45:55.135965Z"
    },
    "hidden": true
>>>>>>> f6031340e4b112c58bf82ae3d95ff7531dd72b01
   },
   "outputs": [
    {
     "name": "stderr",
     "output_type": "stream",
     "text": [
<<<<<<< HEAD
      "C:\\Users\\pedro\\AppData\\Local\\Temp\\ipykernel_17652\\3380288980.py:1: UserWarning: \n",
=======
      "C:\\Users\\pedro\\AppData\\Local\\Temp\\ipykernel_13340\\3380288980.py:1: UserWarning: \n",
>>>>>>> f6031340e4b112c58bf82ae3d95ff7531dd72b01
      "\n",
      "`distplot` is a deprecated function and will be removed in seaborn v0.14.0.\n",
      "\n",
      "Please adapt your code to use either `displot` (a figure-level function with\n",
      "similar flexibility) or `histplot` (an axes-level function for histograms).\n",
      "\n",
      "For a guide to updating your code to use the new functions, please see\n",
      "https://gist.github.com/mwaskom/de44147ed2974457ad6372750bbe5751\n",
      "\n",
      "  sns.distplot(df1['competition_distance'])\n"
     ]
    },
    {
     "data": {
      "text/plain": [
       "<AxesSubplot: xlabel='competition_distance', ylabel='Density'>"
      ]
     },
<<<<<<< HEAD
     "execution_count": 21,
=======
     "execution_count": 16,
>>>>>>> f6031340e4b112c58bf82ae3d95ff7531dd72b01
     "metadata": {},
     "output_type": "execute_result"
    },
    {
     "data": {
      "image/png": "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\n",
      "text/plain": [
       "<Figure size 640x480 with 1 Axes>"
      ]
     },
     "metadata": {},
     "output_type": "display_data"
    }
   ],
   "source": [
    "sns.distplot(df1['competition_distance'])"
   ]
  },
  {
   "cell_type": "markdown",
   "id": "fd42c455",
<<<<<<< HEAD
   "metadata": {},
=======
   "metadata": {
    "hidden": true
   },
>>>>>>> f6031340e4b112c58bf82ae3d95ff7531dd72b01
   "source": [
    "### 1.7.1. Categorical Attributes"
   ]
  },
  {
   "cell_type": "code",
<<<<<<< HEAD
   "execution_count": 22,
   "id": "18fefefd",
   "metadata": {
    "ExecuteTime": {
     "end_time": "2022-12-16T00:46:52.152544Z",
     "start_time": "2022-12-16T00:46:51.825769Z"
    }
=======
   "execution_count": 17,
   "id": "18fefefd",
   "metadata": {
    "ExecuteTime": {
     "end_time": "2022-12-15T17:46:15.443412Z",
     "start_time": "2022-12-15T17:46:15.111146Z"
    },
    "hidden": true
>>>>>>> f6031340e4b112c58bf82ae3d95ff7531dd72b01
   },
   "outputs": [
    {
     "data": {
      "text/plain": [
       "state_holiday      4\n",
       "store_type         4\n",
       "assortment         3\n",
       "promo_interval     4\n",
       "month_map         12\n",
       "dtype: int64"
      ]
     },
<<<<<<< HEAD
     "execution_count": 22,
=======
     "execution_count": 17,
>>>>>>> f6031340e4b112c58bf82ae3d95ff7531dd72b01
     "metadata": {},
     "output_type": "execute_result"
    }
   ],
   "source": [
    "cat_attributes.apply(lambda x: x.unique().shape[0])"
   ]
  },
  {
   "cell_type": "code",
<<<<<<< HEAD
   "execution_count": 23,
   "id": "2ff5319f",
   "metadata": {
    "ExecuteTime": {
     "end_time": "2022-12-16T00:46:53.074640Z",
     "start_time": "2022-12-16T00:46:52.156100Z"
    }
=======
   "execution_count": 18,
   "id": "2ff5319f",
   "metadata": {
    "ExecuteTime": {
     "end_time": "2022-12-15T17:46:16.342613Z",
     "start_time": "2022-12-15T17:46:15.446450Z"
    },
    "hidden": true
>>>>>>> f6031340e4b112c58bf82ae3d95ff7531dd72b01
   },
   "outputs": [
    {
     "data": {
      "text/plain": [
       "<AxesSubplot: xlabel='assortment', ylabel='sales'>"
      ]
     },
<<<<<<< HEAD
     "execution_count": 23,
=======
     "execution_count": 18,
>>>>>>> f6031340e4b112c58bf82ae3d95ff7531dd72b01
     "metadata": {},
     "output_type": "execute_result"
    },
    {
     "data": {
      "image/png": "iVBORw0KGgoAAAANSUhEUgAAAk0AAAGxCAYAAAB/QoKnAAAAOXRFWHRTb2Z0d2FyZQBNYXRwbG90bGliIHZlcnNpb24zLjYuMiwgaHR0cHM6Ly9tYXRwbG90bGliLm9yZy8o6BhiAAAACXBIWXMAAA9hAAAPYQGoP6dpAABuiUlEQVR4nO3de1xUdf4/8NcMwoAKIxe5iaJ9vaSiVpiKpl1svazX2tSvIuk3s631kqntZpfVdivKYu2b1W7Wdtkgac31W/vNxUvfskC8hMtP1LK2uIhxUUIQZQZk3r8/3DkxMAMDzDDnDK/n4zGP4pzPnPmM5/058z6Xz+ejExEBEREREbVI7+kKEBEREWkBkyYiIiIiJzBpIiIiInICkyYiIiIiJzBpIiIiInICkyYiIiIiJzBpIiIiInICkyYiIiIiJ3TzdAW8icViwQ8//IDAwEDodDpPV4c0SkRw8eJFREdHQ6/vnPMaxi65AmOXtMrZ2GXS5EI//PAD+vbt6+lqkJc4c+YMYmJiOuWzGLvkSoxd0qrWYlc1SVNycjIeffRRPPjgg3jxxRcBXM38nnzySWzbtg2VlZUYO3YsXnnlFQwfPlx5n9lsxvr167F9+3bU1tZi8uTJePXVV22+dGVlJVavXo2PPvoIADB79mxs3boVvXr1UsoUFRVhxYoV+L//+z8EBARg0aJFeOGFF+Dn5+f0dwgMDARw9R89KCioA/8apCUpKSn43e9+hwceeADPPvssgKux++yzz+Ltt9/GhQsXMHr0aLzwwgsYOnSo8j6z2YzHH38cH3zwAUwmE26++WakpKQgMDAQffv2RWBgIGOX3IqxS3RVdXW1ErstEhU4cuSI9O/fX0aOHCkPPvigsvzZZ5+VwMBA2blzp+Tl5cmCBQskKipKqqurlTL333+/9OnTR/bt2yfHjh2TW2+9VUaNGiVXrlxRykybNk3i4uLk4MGDcvDgQYmLi5OZM2cq669cuSJxcXFy6623yrFjx2Tfvn0SHR0tK1eubNP3qKqqEgBSVVXV/n8M0hR3xO6PP/6oxBFjl9yFsUv0E2fjyONJ08WLF2XQoEGyb98+ufnmm5XGa7FYJDIyUp599lmlrMlkEqPRKH/6059EROTChQvi6+sr6enpSpmzZ8+KXq+XjIwMERE5deqUAJBDhw4pZbKzswWAfP311yIisnv3btHr9XL27FmlzPbt28VgMLSpIbLxdi3uit2dO3cKADly5Ahjl9yCsUtky9k48njvuRUrVmDGjBm4/fbbbZbn5+ejtLQUU6ZMUZYZDAbcfPPNOHjwIAAgJycH9fX1NmWio6MRFxenlMnOzobRaMTYsWOVMuPGjYPRaLQpExcXh+joaKXM1KlTYTabkZOT47DuZrMZ1dXVNi/qOtwVu0eOHAEAHDlyhLFLbsHYJWofjz7TlJ6ejmPHjuHo0aPN1pWWlgIAIiIibJZHRESgsLBQKePn54fg4OBmZazvLy0tRXh4eLPth4eH25Rp+jnBwcHw8/NTytiTnJyMJ598srWvSV7InbFbVlYGACgrK2Pskssxdonaz2NXms6cOYMHH3wQqamp8Pf3d1iuaRdSEWm1W2nTMvbKt6dMUxs2bEBVVZXyOnPmTIv1Iu/A2CWtYuwSdYzHkqacnByUl5cjPj4e3bp1Q7du3XDgwAG89NJL6Natm3IG0vSMo7y8XFkXGRmJuro6VFZWtljGevbT2Llz52zKNP2cyspK1NfXNzsTasxgMCAoKMjmRd7P3bFrPUNvfObeGGOX2ouxS9QxHkuaJk+ejLy8POTm5iqv0aNHIzExEbm5ubjmmmsQGRmJffv2Ke+pq6vDgQMHMH78eABAfHw8fH19bcqUlJTgxIkTSpmEhARUVVUp99oB4PDhw6iqqrIpc+LECZSUlChl9u7dC4PBgPj4eLf+O5D2uDt2x4wZAwAYM2YMY5dcirFL1EFufBi9zRr34hC52vXVaDTK3/72N8nLy5OFCxfa7foaExMj+/fvl2PHjsltt91md8iBkSNHSnZ2tmRnZ8uIESPsdn2dPHmyHDt2TPbv3y8xMTHs+kpOc2XsNu22zdgld2LsEmloyIHGmjZei8UiGzdulMjISDEYDDJp0iTJy8uzeU9tba2sXLlSQkJCJCAgQGbOnClFRUU2ZSoqKiQxMVECAwMlMDBQEhMTpbKy0qZMYWGhzJgxQwICAiQkJERWrlwpJpOpTfVn4+26XBm7jeOIsUvuxtglcj6OdCIinrnG5X2qq6thNBpRVVXF++zUbp6II8YuuQJjl7TK2Tjy+DhN1LVkZWVh3rx5yMrK8nRViDyCbUBbuL+oMSZN1GlMJhNSUlJQVlaGlJQUmEwmT1eJqFOxDWgL9xc1xaRJQ7R+xpOamoqKigoAQEVFBdLS0jxcI6LOxTagLdxf1BSTJo0wmUxITk5GWVkZkpOTNXfGU1xcjLS0NFgfoRMRpKWlobi42MM1I+ocbAPawv1F9jBp0oi3335bmWOpuroa77zzjodr5DwRwZYtWxwuZ18E8nbWWLdYLDbLGxoa2AZUiPuLHGHSpAHFxcXYvn27zbLt27dr5oynsLAQR48eRUNDg83yhoYGHD16VJnTishbWdtA0x9bEWEbUCHuL3KESZPKiQieffbZZo3XYrHYXa5GsbGxuPHGG+Hj42Oz3MfHB2PGjEFsbKyHakbUOfr164eePXvaXdezZ0/069evk2tELeH+IkeYNKlcQUEBjh8/bnfd8ePHUVBQ0LkVagedToeHHnrI4fLWJgIl0rrCwkLU1NTYXVdTU8MrFyrD/UWOMGmiThETE4PExEQlQdLpdEhMTESfPn08XDMiIiLnMGlSuf79+2PEiBF2140cORL9+/fv3Ap1wOLFixEaGgoACAsLQ2JioodrRNQ5vKkddwXcX+QIkyaV0+l02LBhQ7NbWI6Wq5m/vz/WrVuHiIgIrF27Fv7+/p6uElGn8KZ23BVwf5EjTJo0ICYmBgsXLrRZtmjRIk3e2powYQJ27NiBCRMmeLoqRJ3Km9pxV8D9RfYwadKIpUuXIiAgAAAQEBCAJUuWeLhGRNRWbMfawv1FTTFp0hBfX1+b/xKR9rAdawv3FzXGpEkjUlNTcfHiRQDAxYsXOQcSkQaxHWsL9xc1xaRJAzgHEpH2sR1rC/cX2cOkSeU4bxuR9rEdawv3FznCpEnlOG8bkfaxHWsL9xc5wqRJ5ThvG5H2sR1rC/cXOcKkSeU4bxuR9rEdawv3FznCpEkDOG8bkfaxHWsL9xfZw6RJIzhvG5H2sR1rC/cXNcWkSSO8Zd62rKwszJs3D1lZWZ6uClGn8/f3x89//nPo9XpMnz5ds+24q+D+oqaYNGmI1udtM5lMSElJQVlZGVJSUmAymTxdJaJOZTKZsHv3blgsFuzevZttQOW4v6gpJk3UaVJTU1FRUQEAqKio4Oi61OWwDWgL9xc1xaSJOgVH16Wujm1AW7i/yB4mTeR2HF2Xujq2AW3h/iJHmDRpiFYfouboutTVsQ1oC/cXOcKkSSO0/BB1bGwsRo4caXfdyJEjOboueT22AW3h/iJHmDRphNYfSHR0OZuXuamrYBvQFu4vsodJkwZo/YHEwsJC5OXl2V2Xl5fHS93k9dgGtIX7ixxh0qRy3vBAonXyS73eNtz0ej0nv6QuoV+/fggKCrK7LigoCP369evkGlFLuL/IESZNKucNDyQ6muRSr9dz8kvqEoqKilBdXW13XXV1NYqKijq5RtQS7i9yxKNJ0x//+EeMHDkSQUFBCAoKQkJCAv7xj38o65cuXQqdTmfzGjdunM02zGYzVq1ahbCwMPTo0QOzZ89udtuqsrISSUlJMBqNMBqNSEpKwoULF2zKFBUVYdasWejRowfCwsKwevVq1NXVue27O8t6laZpYqHT6TR1lcbbJr9k7FJbWNuxPZ3djhm7rVPT/iJ18WjSFBMTg2effRZffvklvvzyS9x2222YM2cOTp48qZSZNm0aSkpKlNfu3btttrFmzRrs2rUL6enpyMzMRE1NDWbOnGlzZWbRokXIzc1FRkYGMjIykJubi6SkJGV9Q0MDZsyYgUuXLiEzMxPp6enYuXMn1q1b5/5/hFbodDosXLiw2W04EcHChQs1dZXGmya/ZOxSW1jbsT2d3Y4Zu61T0/4ilRGVCQ4OljfeeENERJYsWSJz5sxxWPbChQvi6+sr6enpyrKzZ8+KXq+XjIwMERE5deqUAJBDhw4pZbKzswWAfP311yIisnv3btHr9XL27FmlzPbt28VgMEhVVZXTda+qqhIAbXpPaywWi6xdu1YmTZokEydOVF6TJk2StWvXisVicdlndYbMzEy56667JDMz09NVcTlXxe7OnTsFgBw5ckTTsUs/UXs7ZuzaUvv+ItdzNo5U80xTQ0MD0tPTcenSJSQkJCjLP/vsM4SHh2Pw4MFYvnw5ysvLlXU5OTmor6/HlClTlGXR0dGIi4vDwYMHAQDZ2dkwGo0YO3asUmbcuHEwGo02ZeLi4hAdHa2UmTp1KsxmM3Jyctz2nZ1hfaZJ7Fxp0sozTY1pfdJhe1wdu0eOHAEAHDlyRNOxSz9Raztm7Nqn1v1FntfN0xXIy8tDQkICTCYTevbsiV27dmHYsGEAgOnTp2PevHmIjY1Ffn4+nnjiCdx2223IycmBwWBAaWkp/Pz8EBwcbLPNiIgIlJaWAgBKS0sRHh7e7HPDw8NtykRERNisDw4Ohp+fn1LGHrPZDLPZrPzt6MHBjrDeWz969Gizdby37lnuit2ysjIAQFlZmaZjl36itnbM2G2Z2vYXqYfHrzQNGTIEubm5OHToEB544AEsWbIEp06dAgAsWLAAM2bMQFxcHGbNmoV//OMf+Oabb/Dxxx+3uE0RsbnnbO/+c3vKNJWcnKw85Gg0GtG3b99Wv29b8d66ejF2yVlqa8eM3ZapbX+Reng8afLz88PAgQMxevRoJCcnY9SoUfjv//5vu2WjoqIQGxuLb7/9FgAQGRmJuro6VFZW2pQrLy9XzmAiIyOVs5/Gzp07Z1Om6ZlNZWUl6uvrm50JNbZhwwZUVVUprzNnzjj/xZ0kInj77bftrnvrrbc0MU6Tt3JX7FrP0BufuTemldiln6itHTN2W6a2/UXq4fGkqSkRsbn02lhFRQXOnDmDqKgoAEB8fDx8fX2xb98+pUxJSQlOnDiB8ePHAwASEhJQVVWl3GsHgMOHD6OqqsqmzIkTJ1BSUqKU2bt3LwwGA+Lj4x3W1WAwKN12rS9XKygowPHjx+2uO378OAoKClz+mdQ+rordMWPGALh6G0DLsUs/UXs7ZuzaUvv+Is/x6DNNjz76KKZPn46+ffvi4sWLSE9Px2effYaMjAzU1NRg06ZN+MUvfoGoqCgUFBTg0UcfRVhYGO644w4AgNFoxLJly7Bu3TqEhoYiJCQE69evx4gRI3D77bcDAIYOHYpp06Zh+fLleO211wAA9913H2bOnIkhQ4YAAKZMmYJhw4YhKSkJzz//PH788UesX78ey5cv548J2eXO2L311lsBXL2FwtglV2PsEnWAi3vttck999wjsbGx4ufnJ71795bJkyfL3r17RUTk8uXLMmXKFOndu7f4+vpKv379ZMmSJVJUVGSzjdraWlm5cqWEhIRIQECAzJw5s1mZiooKSUxMlMDAQAkMDJTExESprKy0KVNYWCgzZsyQgIAACQkJkZUrV4rJZGrT93FX19dly5bZdHu1vu699152ffUQd8Zu4zjScuzST9TUjhm7rVPT/qLO4Wwc6UR4c9ZVqqurYTQaUVVV5bIzJRHBqlWr7F4qHjlyJLZu3cqHEr2MO+JIjZ/ZlXSVduwtsdtV9hf9xNk4Ut0zTWSrsLCwxXvrHC+ESP3YjrWF+4scYdKkct4223ZWVhbmzZuHrKwsT1eFqNN4Wzv2dtxf5AiTJpXzptm2TSYTUlJSUFZWhpSUFJhMJk9XiahTeFM77gq4v8gRJk0qZx2Ztun9c51Op7mRaVNTU1FRUQHgajfmtLQ0D9eIqHNY27E9WmvHXQH3FznCpEnldDodHnroIej1trvKx8cHDz30kGYeRiwuLkZaWpoyKJyIIC0tDcXFxR6uGZH7cYRpbeH+IkeYNGlATEwMEhMTbZYlJiaiT58+HqpR24gItmzZ0mwUXYvFYnc5kbcREWzfvt3uuvfee49tQGW4v8gRJk0acddddylXm/R6PX7xi194uEbOs84YbrFYbJZbLBbOGE5dgrUN2MM2oD7cX+QIkyaN+OCDD2xube3cudPDNXJebGwsRowYYXfdyJEj+XwAeT22AW3h/iJHmDRpgDc8D8RnAKirq6urs7vc0Zxv5FncX2QPkyaVsz4P5Gi5Fu6tc6A46uoKCgpw+vRpu+tOnz7NCWBVhvuLHGHSpHLWe+sNDQ02yxsaGjRzb93afddeD0B23yUiIq1g0qRy1oTDx8fHZrmWEg7rsAn2xprS0rAJRO3Vv3//Fp+R6d+/f+dWiFrE/UWOMGlSOWti4Wi5VhIO67AJ1vrqdDpNDZtA1BE6nQ4bNmywe+Jgbzl5FvcXOcKkSQO8JeFYvHgxQkNDAQBhYWHNxp4i8mYxMTHNBkxctGiR5tpxV8H9RfYwadIIb0g4/P39sW7dOkRERGDt2rXw9/f3dJXajBMOU0csXboUAQEBAIDu3btjyZIlHq4RtYT7i5pi0qQR3pBwAMCECROwY8cOTJgwwdNVaTNOOEyu0K1bNwBo9pwiqRP3FzXGpElDtJxweANOOEwdlZqaipqaGgBATU0NY0jluL+oKSZNRE7whgFGybMYQ9rC/UX2MGkiaoU3DDBKnsUY0hbuL3KESRNRK7xhgFHyLMaQtnB/kSNMmoha4Q0DjJJnMYa0hfuLHGHSRNQKbxlglDyHMaQt3F/kCJMmIid4ywCj5DmMIW3h/iJ7mDRpCAdW9CxvGGCUPGvx4sXo2bMnACAwMJAxpHLcX9QUkyaN4MCKnuctA4ySZ/HWjrZwf1FjTJo0ggMrqgMHGKWOSE1NxcWLFwEAFy9eZDtWOe4vaopJkwZ40yBrvMVIXZU3teOugPuL7GHSpHLeNMgabzFSV+VN7bgr4P4iR5g0qZw3DbLGW4zUVXlTO+4KuL/IESZNKuctg6zxUjd1ZbGxsRg5cqTddSNHjtRMO+4quL/IESZNKucNg6zxUjcRHMY541+duL/IHiZNGqD1QdZ4qZu6usLCQuTl5dldl5eXxzagMtxf5AiTJo3Q8sCK3nKLkai9rG1Ar7c95Or1erYBFeL+IkeYNGmElgdW9IZbjEQd4SjW9Xo924AKcX+RIx5Nmv74xz9i5MiRCAoKQlBQEBISEvCPf/xDWS8i2LRpE6KjoxEQEIBbbrkFJ0+etNmG2WzGqlWrEBYWhh49emD27NnNHi6urKxEUlISjEYjjEYjkpKScOHCBZsyRUVFmDVrFnr06IGwsDCsXr0adXV1bvvu7aHlgRW1fouxKcYutZVa2gBj1zlq2V+kMuJBH330kXz88cdy+vRpOX36tDz66KPi6+srJ06cEBGRZ599VgIDA2Xnzp2Sl5cnCxYskKioKKmurla2cf/990ufPn1k3759cuzYMbn11ltl1KhRcuXKFaXMtGnTJC4uTg4ePCgHDx6UuLg4mTlzprL+ypUrEhcXJ7feeqscO3ZM9u3bJ9HR0bJy5co2fZ+qqioBIFVVVR38l/FOtbW1cscdd8jEiRPlzjvvlNraWk9Xqd3cGbs//vijEkeMXe+ihjbA2HWeGvYXdQ5n48ijSZM9wcHB8sYbb4jFYpHIyEh59tlnlXUmk0mMRqP86U9/EhGRCxcuiK+vr6Snpytlzp49K3q9XjIyMkRE5NSpUwJADh06pJTJzs4WAPL111+LiMju3btFr9fL2bNnlTLbt28Xg8HQpobIH57WZWZmyl133SWZmZmerorLuSp2d+7cKQDkyJEjjF0vpMY2wNh1TI37i1zP2ThSzTNNDQ0NSE9Px6VLl5CQkID8/HyUlpZiypQpShmDwYCbb74ZBw8eBADk5OSgvr7epkx0dDTi4uKUMtnZ2TAajRg7dqxSZty4cTAajTZl4uLiEB0drZSZOnUqzGYzcnJyHNbZbDajurra5kUt0/ItRkdcHbtHjhwBABw5coSx64XU1AYYu61T0/4iz/N40pSXl4eePXvCYDDg/vvvx65duzBs2DCUlpYCACIiImzKR0REKOtKS0vh5+eH4ODgFsuEh4c3+9zw8HCbMk0/Jzg4GH5+fkoZe5KTk5X79UajEX379m3jtyctc1fslpWVAQDKysoYu+QWjF2i9vF40jRkyBDk5ubi0KFDeOCBB7BkyRKcOnVKWd+0l4KItNpzoWkZe+XbU6apDRs2oKqqSnmdOXOmxXqRd2HsklYxdonax+NJk5+fHwYOHIjRo0cjOTkZo0aNwn//938jMjISAJqdcZSXlytnJ5GRkairq0NlZWWLZaxnP42dO3fOpkzTz6msrER9fX2zM6HGDAaD0gPF+qKuw12xaz1Db3zm3hhjlzqKsUvUPh5PmpoSEZjNZgwYMACRkZHYt2+fsq6urg4HDhzA+PHjAQDx8fHw9fW1KVNSUoITJ04oZRISElBVVaXcaweAw4cPo6qqyqbMiRMnUFJSopTZu3cvDAYD4uPj3fp9yXu4KnbHjBkDABgzZgxjlzoFY5fISe56Et0ZGzZskM8//1zy8/Pl+PHj8uijj4per5e9e/eKyNWur0ajUf72t79JXl6eLFy40G7X15iYGNm/f78cO3ZMbrvtNrtDDowcOVKys7MlOztbRowYYbfr6+TJk+XYsWOyf/9+iYmJUVXXV1IXd8Zu027bjF1yJcYuUXOaGHLgnnvukdjYWPHz85PevXvL5MmTlYYrImKxWGTjxo0SGRkpBoNBJk2aJHl5eTbbqK2tlZUrV0pISIgEBATIzJkzpaioyKZMRUWFJCYmSmBgoAQGBkpiYqJUVlbalCksLJQZM2ZIQECAhISEyMqVK8VkMrXp+7Dxdh3ujN3GccTYJVdj7BI152wc6UQ4ZbOrVFdXw2g0oqqqivfZvVRWVhZefPFFrFmzxm1dkD0RR4zdztMZMeQp3hi73ry/6CfOxpHqnmkiUiuTyYSUlBSUlZUhJSUFJpPJ01UijWEMaQv3FzXFpInISampqaioqAAAVFRUIC0tzcM1Iq1hDGkL9xc1xaSJyAnFxcVIS0uD9W62iCAtLa3ZJKVEjjCGtIX7i+xh0kTUChHBli1bHC7nY4HUGsaQtnB/kSNMmohaUVhYiKNHj6KhocFmeUNDA44ePYrCwkIP1Yy0gjGkLdxf5AiTJqJWxMbG4sYbb4SPj4/Nch8fH4wZMwaxsbEeqhlpBWNIW7i/yBEmTUSt0Ol0eOihhxwub21OLiLGkLZwf5EjTJqInBATE4PExETlYKnT6ZCYmIg+ffp4uGakFYwhbeH+InuYNBE5afHixQgNDQUAhIWFITEx0cM1Iq1hDGkL9xc1xaSJyEn+/v5Yt24dIiIisHbtWvj7+3u6SqQxjCFt4f6ipjiNigtxKgpyBW+cioK6BsYuaRWnUSEiIiJyISZNRERERE5g0kRERETkBCZNRERERE5g0kRERETkBCZNRERERE5g0kTUBllZWZg3bx6ysrI8XRXSKMaQtnB/UWNMmoicZDKZkJKSgrKyMqSkpMBkMnm6SqQxjCFt4f6ippg0ETkpNTUVFRUVAICKigqkpaV5uEakNYwhbeH+oqaYNBE5obi4GGlpabAOoC8iSEtLQ3FxsYdrRlrBGNIW7i+yh0kTUStEBFu2bHG4nDMRUWsYQ9rC/UWOMGkiakVhYSGOHj2KhoYGm+UNDQ04evQoCgsLPVQz0grGkLZwf5EjTJqIWhEbG4sbb7wRPj4+Nst9fHwwZswYxMbGeqhmpBWMIW3h/iJHmDQRtUKn0+Ghhx5yuFyn03mgVqQljCFt4f4iR5g0ETkhJiYGiYmJysFSp9MhMTERffr08XDNSCsYQ9rC/UX2MGkictLixYsRGhoKAAgLC0NiYqKHa0RawxjSFu4vaopJE5GT/P39sW7dOkRERGDt2rXw9/f3dJVIYxhD2sL9RU3phH0nXaa6uhpGoxFVVVUICgrydHVIozwRR4xdcgXGLmmVs3HEK01ERERETmDSREREROQEJk1ERERETmDSREREROQEjyZNycnJuPHGGxEYGIjw8HDMnTsXp0+ftimzdOlS6HQ6m9e4ceNsypjNZqxatQphYWHo0aMHZs+e3WxSxcrKSiQlJcFoNMJoNCIpKQkXLlywKVNUVIRZs2ahR48eCAsLw+rVq1FXV+eW707a5s7YPXv2rE0Zxi65EmOXqP08mjQdOHAAK1aswKFDh7Bv3z5cuXIFU6ZMwaVLl2zKTZs2DSUlJcpr9+7dNuvXrFmDXbt2IT09HZmZmaipqcHMmTNt5g1atGgRcnNzkZGRgYyMDOTm5iIpKUlZ39DQgBkzZuDSpUvIzMxEeno6du7ciXXr1rn3H4E0yZ2xu2DBApsyjF1yJcYuUQeIipSXlwsAOXDggLJsyZIlMmfOHIfvuXDhgvj6+kp6erqy7OzZs6LX6yUjI0NERE6dOiUA5NChQ0qZ7OxsASBff/21iIjs3r1b9Hq9nD17Vimzfft2MRgMUlVV5VT9q6qqBIDT5cl7uDp2rXHE2CV3Y+wSOR9HqnqmqaqqCgAQEhJis/yzzz5DeHg4Bg8ejOXLl6O8vFxZl5OTg/r6ekyZMkVZFh0djbi4OBw8eBAAkJ2dDaPRiLFjxyplxo0bB6PRaFMmLi4O0dHRSpmpU6fCbDYjJyfH9V+WvIorY3fYsGHK34xdcjfGLpHzunm6AlYigrVr1+Kmm25CXFycsnz69OmYN28eYmNjkZ+fjyeeeAK33XYbcnJyYDAYUFpaCj8/PwQHB9tsLyIiAqWlpQCA0tJShIeHN/vM8PBwmzIRERE264ODg+Hn56eUacpsNsNsNit/V1dXt+/Lk6a5OnZ79+6t/D9jl9yJsUvUNqpJmlauXInjx48jMzPTZnnje+RxcXEYPXo0YmNj8fHHH+POO+90uD0RsZmJ2t6s1O0p01hycjKefPJJx1+KugR3xG5jjF1yF8YuUduo4vbcqlWr8NFHH+HTTz9FTExMi2WjoqIQGxuLb7/9FgAQGRmJuro6VFZW2pQrLy9XzmAiIyNRVlbWbFvnzp2zKdP0zKayshL19fXNzoSsNmzYgKqqKuV15swZ574weQ13xO758+eV/2fskrswdonawY3PVbXKYrHIihUrJDo6Wr755hun3nP+/HkxGAzyzjvviMhPDyS+//77SpkffvjB7oPghw8fVsocOnTI7gOJP/zwg1ImPT2dDySSjczMTLnrrrvkiy++cGvsosnDtIxdchV3H3e9LXatbT4zM9Mt2yd1cDaOPJo0PfDAA2I0GuWzzz6TkpIS5XX58mUREbl48aKsW7dODh48KPn5+fLpp59KQkKC9OnTR6qrq5Xt3H///RITEyP79++XY8eOyW233SajRo2SK1euKGWmTZsmI0eOlOzsbMnOzpYRI0bIzJkzlfVXrlyRuLg4mTx5shw7dkz2798vMTExsnLlSqe/D394vFttba3ccccdMnHiRBkwYIDbYnfEiBE2ccTYJVdy53HX22K3cZu/4447pLa21uWfQeqgiaQJgN3XW2+9JSIily9flilTpkjv3r3F19dX+vXrJ0uWLJGioiKb7dTW1srKlSslJCREAgICZObMmc3KVFRUSGJiogQGBkpgYKAkJiZKZWWlTZnCwkKZMWOGBAQESEhIiKxcuVJMJpPT34c/PN7t9ddfl0mTJsnEiRPdGrsnT560iSPGLrkSY9d5jdv8pEmT5I033nD5Z5A6OBtHOpEmT+5Ru1VXV8NoNKKqqgpBQUGerg65UHFxMZKSkmwGTO3WrRv+8pe/tPo8SFt5Io4Yu64jIjCZTA7XWXt+GQwGhw87+/v7O1ynZt4Uu53Z5snznI0j1fSeo9ZlZWXhxRdfxJo1azBhwgRPV6fLEBFs2bLF4fIXXnhBkz9w5B4mkwlTp07t0Db27NmDgIAAF9WI2srb2jx/O1xHFb3nqHUmkwkpKSkoKytDSkqKwzNZcr3CwkIcPXrU5owTuDoFxNGjR1FYWOihmhGRO3hTm+dvh2vxSpNGpKamoqKiAgBQUVGBtLQ0LFu2zMO16hpiY2Nx44034tixYzYHUR8fH8THxyM2NtaDtSO18ff3x549e+yuM5lMmDNnDgDgww8/hL+/v8NtkOd4U5vnb4dr8UqTBhQXFyMtLU0ZOE5EkJaWhuLiYg/XrGvQ6XR46KGHHC7X0mV6cj+dToeAgAC7r8bJkL+/v8NyjCnP8pY2z98O12PSpHKt3Vvnc/ydIyYmBomJicrBUqfTITExEX369PFwzYjIHbTe5vnb4R5MmlTOm+6ta93ixYsRGhoKAAgLC0NiYqKHa0RE7qTlNs/fDvdg0qRy1nvrPj4+Nst9fHwwZswYTd1b1zp/f3+sW7cOERERWLt2LZ87IfJyWm7z/O1wDyZNKuct99a9xYQJE7Bjxw522yXqIrTa5vnb4R5MmjRA6/fWiYio8/G3w/WYNGnEXXfdZRP4v/jFLzxcIyIiUjv+drgWkyaN+OCDD2CxWAAAFosFO3fu9HCNiIhI7fjb4VpMmjTAOtZGYxxrg4iIWsLfDtdj0qRyHGuDiIjair8d7sGkSeU41gYREbUVfzvcg0mTynGsDSIiaivrb0fToQV0Oh1/OzqAE/aqnHVMjcWLFzdbp5axNkTEqZmzRQRmsxkAYDAYWq27v7+/Kr4fEZHW6HQ6LFy4EEePHrVZLiJYuHAhj63txKRJA2JiYjB8+HDk5eUpy4YPH66asTZMJhOmTp3q8u3u2bMHAQEBLt8uEZG3ExFs377d7rr33nsPN9xwAxOnduDtOQ0oLi7GqVOnbJadOnWKPSCIiMgu6zNN9vCZpvbjlSaVa60HxAsvvODxswV/f3/s2bOn1XImkwlz5swBAHz44YetzuOkpXmeiIjUpF+/fggKCkJ1dXWzdUFBQejXr58HaqV9TJpUztHZQuMeEP379+/8ijWi0+nafBvN39+ft96IiNykqKjIbsIEANXV1SgqKvL4b4cW8facyll7QOj1truKveeIiMgR9p5zDyZNKmftPWcdBt/KYrGopvccERGpi/W3o+lvhF6v529HB/D2nEaJCEd0JSIih2JiYjB06FCcPHlSWTZ06FDV9Lx2Zriatg5VA7h3uBomTSonIkhOTra7Ljk5GS+//DLPGIiIqBl7Pa9PnjyJ4uJixMTEeKhWP9HicDXtuj135swZm+7uR44cwZo1a7Bt2zaXVYyuKigosBmfqbG8vDwUFBR0boU0jrFLWsXYpbYQETz77LPN7kg4Wk7OadeVpkWLFuG+++5DUlISSktL8bOf/QzDhw9HamoqSktL8dvf/tbV9eyyWgtsBn7bMHZJqxi71BYFBQU4fvy43XXHjx9HQUEBBgwY0Mm1suXMcDVtHarGul13adeVphMnTmDMmDEAgL/+9a+Ii4vDwYMH8d577+Htt992Zf26vB9++KFD68kWY5e0irFL3sY6XE1Lr8YJkHWomtZe7nxkpV1JU319PQwGAwBg//79mD17NgDg2muvRUlJietqRxg/fjx69uxpd13Pnj0xfvz4Tq6RtjF2SasYu9QW/fv3x4gRI+yuGzlyJMdoaqd2JU3Dhw/Hn/70J3zxxRfYt28fpk2bBuDqVY/Q0FCXVrCr0+v1+N3vfmd33VNPPdVs/CZqGWOXtIqx6xlZWVmYN28esrKyPF2VNtHpdNiwYYPddRs2bGAHonZq1y/uc889h9deew233HILFi5ciFGjRgEAPvroI+XyMbnOuXPn7C4vKyvr5JpoH2OXtIqx2/lMJhNSUlJQVlaGlJSUVrvHa4FOp+OzsB3QrgfBb7nlFpw/fx7V1dUIDg5Wlt93333o3r27yypHV6dL2bx5s911mzdvxpQpU+Dj49PJtdIuxi5pFWO386WmpqKiogIAUFFRgbS0NCxbtszDtXKOdX5SvV5vMziyTqdTzbylWtTuezsigpycHLz22mu4ePEiAMDPz4+N18U++ugjNDQ02F3X0NCAjz76qJNrpH2MXdIqxm7nKS4uRlpamnJVRkSQlpZmM+yDmlnnLbU3m4R13lJqu3YlTYWFhRgxYgTmzJmDFStWKLePNm/ejPXr17u0gl3drFmzOrSebDF2SasYu53HepXG0XIt3N6KjY1t8UFwzj3XPu1Kmh588EGMHj0alZWVNqNu3nHHHfjkk09cVjlCq2c1WjnrUQvGLmkVY7fzWK/SNL3K39DQoKmrNHV1dXaXW6clobZrV9KUmZmJxx9/HH5+fjbLY2NjcfbsWae3k5ycjBtvvBGBgYEIDw/H3Llzcfr0aZsyIoJNmzYhOjoaAQEBuOWWW2zm0QGuBsCqVasQFhaGHj16YPbs2c2SicrKSiQlJcFoNMJoNCIpKQkXLlywKVNUVIRZs2ahR48eCAsLw+rVqx0GXWfp168fgoKC7K4LCgpCv379OrlG2qaF2G1aD63GLrkWY7fzxMbG4sYbb2z2vKiPjw/GjBmjias0BQUFzfar1enTpzmbRDu1K2myWCx2n7MpLi5GYGCg09s5cOAAVqxYgUOHDmHfvn24cuUKpkyZgkuXLillNm/ejD/84Q94+eWXcfToUURGRuJnP/uZcj8fANasWYNdu3YhPT0dmZmZqKmpwcyZM23quGjRIuTm5iIjIwMZGRnIzc1FUlKSsr6hoQEzZszApUuXkJmZifT0dOzcuRPr1q1r6z+PSxUVFaG6utruuurqahQVFXVyjbRNC7G7YMECm8/SauySazF2O49Op8NDDz3kcDkfoO7CpB3mz58vy5cvFxGRnj17yvfffy8XL16U2267TZYuXdqeTYqISHl5uQCQAwcOiIiIxWKRyMhIefbZZ5UyJpNJjEaj/OlPfxIRkQsXLoivr6+kp6crZc6ePSt6vV4yMjJEROTUqVMCQA4dOqSUyc7OFgDy9ddfi4jI7t27Ra/Xy9mzZ5Uy27dvF4PBIFVVVU7Vv6qqSgA4Xd4ZFotF1q5dKxMnTmz2WrdunVgsFpd9lrtdvnxZqfvly5c9UgetxK41jrQcu9RcR9oAY9c+d8bu66+/LpMmTZKJEyfKpEmT5I033nD5Z7iLxWKRe++91+5vx/LlyzXz29FZvxvOxlG7rjRt2bIFBw4cwLBhw2AymbBo0SL0798fZ8+exXPPPdfuBK6qqgoAEBISAgDIz89HaWkppkyZopQxGAy4+eabcfDgQQBATk4O6uvrbcpER0crUwwAQHZ2NoxGI8aOHauUGTduHIxGo02ZuLg4REdHK2WmTp0Ks9mMnJwcu/U1m82orq62ebmaTqfDwoUL7a5buHAhz3jaSAuxO2zYMOVvLccuuRZj96rOjN3FixcrMzIEBgYiMTHRbZ/lDk1v5Vr5+vp2ck28R7vGaYqOjkZubi62b9+OY8eOwWKxYNmyZUhMTLR5QLEtRARr167FTTfdhLi4OABAaWkpACAiIsKmbEREhPIgXmlpKfz8/GzGLbGWsb6/tLQU4eHhzT4zPDzcpkzTzwkODoafn59Spqnk5GQ8+eSTbf2qbSIi2L59u9117733Hm644QYmTm2ghdjt3bu38v9ajl1yLcbuVZ0du1o9vhYWFiIvL8/uury8PBQWFnIqlXZoV9IEAAEBAbjnnntwzz33uKQiK1euxPHjx5GZmdlsXdOgFZFWA7lpGXvl21OmsQ0bNmDt2rXK39XV1ejbt2+L9Woray8Oe6y9OBj4baOF2G1pG/a2o8bYJddj7HZu7KampirPcV28eFFTg1vGxsZi8ODB+Oabb5qtGzJkiCYeZlcjp5OmtgyiaJ1I0lmrVq3CRx99hM8//xwxMTHK8sjISABXz0aioqKU5eXl5crZSWRkJOrq6lBZWWlz1lNeXq5MZhsZGWl3ypFz587ZbOfw4cM26ysrK1FfX9/sTMjKYDAoE2i6S79+/eDv7293+H5/f3/2nnOC1mL3/PnzNtvRauxSxzF2m+us2HU0uOXUqVNt/r3USkTwww8/2F139uxZp5Jgas7ppGnu3LlOldPpdA5HsG5KRLBq1Srs2rULn332GQYMGGCzfsCAAYiMjMS+fftw/fXXA7g67sSBAweUe/jx8fHw9fXFvn37MH/+fABASUkJTpw4oUw/kpCQgKqqKhw5ckSZo+nw4cOoqqpSEquEhAQ8/fTTKCkpUQ4Ue/fuhcFgQHx8vFPfxx0KCgoczndkMplQUFCAa665ppNrpS1ai91Tp04p29Fy7FLHMXY9Q1oZ3FILU5BkZ2ejpqbG7rqamhpkZ2djwoQJnVwr7XM6aWo6FLsrrFixAu+99x4+/PBDBAYGKvewjUYjAgICoNPpsGbNGjzzzDMYNGgQBg0ahGeeeQbdu3fHokWLlLLLli3DunXrEBoaipCQEKxfvx4jRozA7bffDgAYOnQopk2bhuXLl+O1114DcHW+ppkzZ2LIkCEAgClTpmDYsGFISkrC888/jx9//BHr16/H8uXLHY6T1Bn++c9/trqeSVPLtBa7w4cPV55F0HLsUscxdj3D0WMRjQe3VPtjEePGjYOPj4/dZLpbt24YN26cB2rlBVzbaa9tANh9vfXWW0oZi8UiGzdulMjISDEYDDJp0iTJy8uz2U5tba2sXLlSQkJCJCAgQGbOnClFRUU2ZSoqKiQxMVECAwMlMDBQEhMTpbKy0qZMYWGhzJgxQwICAiQkJERWrlwpJpPJ6e/jjq6v3333nd0uo9bXd99957LPcjc1DDngKu6M3ZMnT9rEkVZjl5pTQxtg7LbOOtTLLbfcYnO8veWWWzQz1Et+fn6Lvx35+fmerqJT1DbkgE6kfZPoXLp0CQcOHEBRUVGz0VtXr17dnk1qXnV1NYxGI6qqqpw+SxIRh7ffrOt/+ctf2h22f8CAAfjjH//o8DKxv7+/qi4h19bWYurUqQCAPXv2tLvHT0epPXbbE0da/MyuqKNtgLHbeZ9ZXFyMpKQkmys13bp1w7vvvos+ffq47HPcxWKxYPbs2XaHZAgKCsJHH30Evb5dow51qs763XA2jtrVe+6f//wnfv7zn+Py5cu4dOkSQkJCcP78eXTv3h3h4eGqaLxaYTKZlIBoq/z8fEybNs3hek8mJmrF2CWtYux2rpiYGCQmJuLdd99VHppOTEzURMIEODebhNpvMapRu9LMhx56CLNmzcKPP/6IgIAAHDp0CIWFhYiPj8cLL7zg6joSuQxjl7SKsdv5Fi9erExRExQUpKnBLWNjYzFixAi760aOHMkhB9qpXVeacnNz8dprr8HHxwc+Pj4wm8245pprsHnzZixZsgR33nmnq+vptfz9/bFnz55Wy1VVVSm9VPz8/LBjxw74+/u3um2yxdglrWLseob1CRZ3PJTvbmp6PMNbtOtKk6+vr7IzIiIilEljjUYjJ5BtI51Oh4CAgFZfRqNRec9jjz2G4ODgVt/DBtMcY5e0irHb+VJTU5Vu+zU1NUhLS/NwjZxXWFiI48eP2113/Phxu8/JUuvadaXp+uuvx5dffonBgwfj1ltvxW9/+1ucP38e7777rsPLgeQ67Crafoxd0irGbufS+uCW1ttz9qZS4e259mvXlaZnnnlGGYjs97//PUJDQ/HAAw/g3LlzyngcRGrE2O1asrKyMG/ePGRlZXm6Kh3G2O088u9BLJt2LrdYLHaXq1XTHpZWZrO5k2viPdp1pWn48OFK0PTu3Ruvvvoqdu3ahWHDhuG6665zZf2IXIqx23WYTCakpKTg/PnzSElJQXx8vKaf82Psdh5Hg1taLBbNDG5ZUFCA06dP2113+vRpFBQUNBsNnlrXritNc+bMwV/+8hcAwIULFzBu3Dj84Q9/wNy5c/HHP/7RpRUkciXGbteRmpqKiooKAEBFRYWmnkexh7HbedjzjBxpV9J07NgxTJw4EQDwwQcfICIiAoWFhfjLX/6Cl156yaUVJHIlxm7X4Oh5lOLiYg/XrP0Yu51L6x1p+vfvr0xX09SQIUNUf6VMrdqVNF2+fFkZu2Lv3r248847odfrMW7cOD6RT6rG2PV+0spkq1p5HqUpxm7n8ZaeZ35+fm1aTq1rV9I0cOBA/M///A/OnDmDPXv2YMqUKQCA8vJyTsFAqsbY9X7W51GaTlTaeLJVLWLsdp7Y2FjceOONzaYZ0ev1GDNmjCZuzxUWFtrtOQcAeXl5mm0HntaupOm3v/0t1q9fj/79+2Ps2LFISEgAcPXs5/rrr3dpBYlcibHr/aw/eD4+PjbLfXx8NPODZw9jt/PodDo89NBDdq9KPvTQQ5q4decNiZ8atStpuuuuu1BUVIQvv/wSGRkZyvLJkyfbvSxOpBaMXe9n/cFztFwLP3j2MHY9T0Q0c3vXUbzr9XpNtwNPa9eQAwAQGRmJyMhIm2VjxozpcIWI3K1p7IqI0lOmtrbW4ftERBnfxGAwOHXQ8ff358HJA7Q+2aojPO52DkfPv1mXv/DCC5po197aDjyp3UkTkbcwmUyYOnWqW7a9Z88eBAQEuGXb1LLFixdj9+7dOH/+PMLCwjQ12Sp5lqNxmgBoZpwmK7YD12rX7TkiIrXz9/fHunXrEBERgbVr12p6YEvqXLGxsRg8eLDddUOGDNHU80D+/v74+c9/Dr1ej+nTp7MddBCvNFGX5+/vjz179rRazmQyYc6cOQCADz/80KmDDw9QnjVhwgRMmDDB09UgjRERh5MgFxYWKre6tMBkMmH37t2wWCzYvXs3Fi9ezONSB/BKE3V5Op0OAQEBrb4aH2j8/f2deo9WDqxE9JODBw/CZDLZXWcymXDw4MFOrlH7paam4vz58wCA8+fPa35kfE9j0kREROSFiouLkZqaarMsNTVV0yPjexqTJiIiokaio6M7tF4NHPUAtFgsmh4Z39OYNBERETXSv39/h1ONGAwGTfScs/YAtDdsgpZHxvc0Jk1ERESNFBYWoq6uzu46s9msiYSjX79+DqfXCQoKQr9+/Tq5Rt6BSRMREVEjZ8+e7dB6NSgqKkJ1dbXdddXV1Q57B1LLmDQRERE1Mn78eHTv3t3uuu7du2P8+PGdXKO2s84917QHr06n49xzHcCkiYiIqBGdToeIiAi76yIiIjQxlIh17rmmE/b6+Phw7rkOYNJERETUSEFBAfLz8+2uy8/PR0FBQedWqJ2sc89ZEyTOPddxTJqIyGWysrIwb948ZGVleboqRISrc8+FhoYCAOeecwEmTUTkEiaTCSkpKSgrK0NKSorDEZWJ1K5///4YOXKk3XWjRo3SxJADVpyD0bWYNBGRS6SmpqKiogIAUFFRwekaSLN0Oh0eeeSRZs/96PV6u8vVbsKECdixYwfnYXQBJk1E1GHFxcVIS0tTBtITEaSlpXG6BlIlEUFtbW2Lr9DQUNx1110277vrrrsQEhLS4vs40rZ36+bpChCRtlmna3C0/IUXXtDcmTl5N5PJhKlTp7b5fX/961/x17/+tcUye/bsQUBAQHurRirHK01E1CHW6RoaGhpsljc0NHC6BiLyKrzSREQdYh1ELycnBxaLRVmu1+sxevRoDqJHquPv7489e/a0Ws5kMmHOnDkAgA8//NCph6j5oLV38+iVps8//xyzZs1CdHQ0dDod/ud//sdm/dKlS6HT6Wxe48aNsyljNpuxatUqhIWFoUePHpg9e3az5ygqKyuRlJQEo9EIo9GIpKQkXLhwwaZMUVERZs2ahR49eiAsLAyrV692OPcQUWZmJmP336yD6NmbGJSD6KkPj7tXYzYgIKDVV+MEyN/f36n3MN69m0eTpkuXLmHUqFF4+eWXHZaZNm0aSkpKlNfu3btt1q9Zswa7du1Ceno6MjMzUVNTg5kzZ9rcKli0aBFyc3ORkZGBjIwM5ObmIikpSVnf0NCAGTNm4NKlS8jMzER6ejp27tyJdevWuf5Lk1dg7LZOp9PxoVgVYuwSdYCoBADZtWuXzbIlS5bInDlzHL7nwoUL4uvrK+np6cqys2fPil6vl4yMDBEROXXqlACQQ4cOKWWys7MFgHz99dciIrJ7927R6/Vy9uxZpcz27dvFYDBIVVWV09+hqqpKALTpPc66fPmyTJw4USZOnCiXL192+fY7g9a/g6P6uzp2d+7cKQDkyJEjmohdi8Uia9eulZtvvln595k4caLcfPPNsnbtWrFYLG3eprdSWxvo6rHbGrXtr66os/aBs3Gk+gfBP/vsM4SHh2Pw4MFYvnw5ysvLlXU5OTmor6/HlClTlGXR0dGIi4vDwYMHAQDZ2dkwGo0YO3asUmbcuHEwGo02ZeLi4hAdHa2UmTp1KsxmM3Jyctz9FclLtTd2jxw5AgA4cuSIJmLX+iB44+eZAMBisXjlg+DiRHd1R6/GA36aTKZ2bUM64epdV4ldorZS9YPg06dPx7x58xAbG4v8/Hw88cQTuO2225CTkwODwYDS0lL4+fkhODjY5n0REREoLS0FAJSWliI8PLzZtsPDw23KNJ2cMTg4GH5+fkoZe8xmM8xms/J3dXV1u78reZeOxG5ZWRkAoKysTBOxGxsbi5EjR+L48ePN1o0cOdLrHgRvb3f1pqwPGLeVu7u0d6XY1TIRcWrUfRFR/r0MBkOrz1z5+/vzuawWqDppWrBggfL/cXFxSk+cjz/+GHfeeafD94mIzU63FwDtKdNUcnIynnzyyVa/B3U9XS12G/+IObOc1Kurxa5WuSp5b4rjTLVM1UlTU1FRUYiNjcW3334LAIiMjERdXR0qKyttznrKy8sxfvx4pYz17Kexc+fOKWc5kZGROHz4sM36yspK1NfXNzsTamzDhg1Yu3at8nd1dTX69u3b/i9IXqstsRsfHw/A9sy9MbXFbkFBAU6fPm133enTp1FQUIABAwa0a9tq1zCroW1HUQFgfVbaB4CzJ/RXAJ+/+7Spbq7izbFL1FaaSpoqKipw5swZREVFAQDi4+Ph6+uLffv2Yf78+QCAkpISnDhxAps3bwYAJCQkoKqqCkeOHMGYMWMAAIcPH0ZVVZWSWCUkJODpp59GSUmJsu29e/fCYDAoBwF7DAYDDAaD274veY+2xO7GjRsBAGPGjGHsql03tP0o6uuOirgPY1ed3DXWFMeZaplHk6aamhr861//Uv7Oz89Hbm4uQkJCEBISgk2bNuEXv/gFoqKiUFBQgEcffRRhYWG44447AABGoxHLli3DunXrEBoaipCQEKxfvx4jRozA7bffDgAYOnQopk2bhuXLl+O1114DANx3332YOXMmhgwZAgCYMmUKhg0bhqSkJDz//PP48ccfsX79eixfvhxBQUGd/K9CWlBTU2NzdcWVsXvrrbcCAIYMGaKJ2I2NjUXPnj1RU1PTbF3Pnj297pkmrXPncVdrsatl1rGm2sI61hS1n0d7z3355Ze4/vrrcf311wMA1q5di+uvvx6//e1v4ePjg7y8PMyZMweDBw/GkiVLMHjwYGRnZyMwMFDZxpYtWzB37lzMnz8fEyZMQPfu3fH3v/8dPj4/XcpOS0vDiBEjMGXKFEyZMgUjR47Eu+++q6z38fHBxx9/DH9/f0yYMAHz58/H3Llz8cILL3TePwZpyrFjxxi7/1ZUVGQ3YQKu/kAXFRV1Wl2odTzuErWfTjqj/2oXUV1dDaPRiKqqKpefKdXW1ioP/Wn1QT2tf4fOqr8748gdnykiWL9+Pb788kub7vA6nQ433ngjnn/+ea/qjdM4DhruaOMzTe11BfDZdTUhUXPb0VrstkbrxyzAM9/B2Z59zmjPVDbOatxT0Nk40tQzTUSkPtZpVJKSkmxGhPbx8eE0KkRdkLt69rV3mA5H2pNEqn5wSyJSv5iYGJuu6sDVrut9+vTxUI2IiFyPV5qIiIjILdo8LEdT7R2mw5EODt/BK01E1GHFxcV4//33bZa9//77KC4u9lCNiEgVunXw5QvA/98vXxdsr4OXiniliRxy5cN8AJrNu+UqHPbfs0QEW7Zscbj8hRde4P4hIq/ApIkcctfDfIBrH+jTaq8Wb2GdsLephoYGZcLe/v37d37FiIhcjLfniKhDYmNjceONN9qM0QNc7T03ZswYDm5JRF6DV5rIKa9MugCDT8eG9BIB6ixX/99PD3Tkjo25QYcVn/fqUH3INRoPOWBvuTtvzbV0C7kts7t35Vu8WVlZePHFF7FmzRpMmDDB09UhUjUmTeQUg4/A3wXzhbruJhrHZFWTmJgYJCYm4t1331VmqU9MTHT7kAOuuoXcVW/xmkwmpKSk4Pz580hJSUF8fDznHiNqAW/PEZFLLF68GKGhoQCAsLAwJCYmerhG1JrU1FScP38eAHD+/HmkpaV5uEZE6sYrTUTktNZuh/3yl7/Etm3bsGLFCogIamtrm5Vz5a2wlmZ6b8v0C13x6kpxcTFSU1NtlqWmpmLq1KmIiYnxUK2I1I1JExE5zdnbYZs2bXK4zpW3wpyd6Z2zu9uyDgfRdOpRi8XCYSKIWsDbc0REXYx1mIimSZOIKMNEEFFzvNJERE5zxe2wrngrTG369euHoKAgVFdXN1sXFBSEfv36eaBWROrHpImInMbbYd6hqKjIbsIEANXV1SgqKuKApER2MGkir+bKqWDcNQ0M0LXHCaLOZx2Q1N5I7hyQlMgxJk3k1dw1FYwrp4EBuu44QeQZOp0OCxcutJs0LVy4kAk8kQN8EJyIqIsREWzfvr1ZcqTT6fDee+81e0CciK7ilSbqMhpmNXQs4gVAw7//3wdAR0/GrwA+f3fBMOtEbeRokuXGvef4TBNRc0yaqOvoho5HvK8rKkLkWdZnmo4dO4aGhgZluY+PD+Lj4/lME5EDvD1HRNTFWCdTdrSczzQR2cekiYioC7JOsmxNkDprkmUiLWPSRETURXGSZaK24TNNRERezBWTLAMcS4wIYNJEROTVXDHJMsCxxIgA3p4jIiIicgqvNBEReTFXTLJs3Q5RV8ekiYjIi3GSZSLX4e05IiIiIifwShMRERG5jM3chVc8Vw+7GtWnPXMsMmkiIiIilzGbzcr/q3l+TbPZjO7du7fpPUya3Kil8VHaqvF2XLVNgGOvELWVR86iO3h2TESuwaTJjZwdH6WtrL1dXIFjrxC1jafPottzdkzUmQwGg/L/DbMa1JVpXPmp3Taup7PU9FWIiIhI42zuXnSDajON9txl8ehX+fzzz/H8888jJycHJSUl2LVrF+bOnausFxE8+eST2LZtGyorKzF27Fi88sorGD58uFLGbDZj/fr12L59O2prazF58mS8+uqriImJUcpUVlZi9erV+OijjwAAs2fPxtatW9GrVy+lTFFREVasWIH/+7//Q0BAABYtWoQXXngBfn5+Lvmul25IBPQd+OcWASz/vkav7wZ05Jaa5Qp6HEtr//sJVf+qwg+f/ICaMzWor67HkHuHIHRkqLJeRHDmH2dQdrAMDbUN6BnbE9fMuwbdo366QmC5YkH+v/Jx7tw5hIWFKbEbFBSklFFD7JItj5xFd/DsuLGmx92hQ4ciLCxMWd+R4y5jl7ydR4ccuHTpEkaNGoWXX37Z7vrNmzfjD3/4A15++WUcPXoUkZGR+NnPfoaLFy8qZdasWYNdu3YhPT0dmZmZqKmpwcyZM9HQ0KCUWbRoEXJzc5GRkYGMjAzk5uYiKSlJWd/Q0IAZM2bg0qVLyMzMRHp6Onbu3Il169a57svquwE+vu1/dfMD/LpffXXz69i2OpK8EQDAUmdBjz49cM28a+yuP7v/LEo+LcE1867BiHUj4Bvki5OvnESD6ae4zP+ffFRUVODaa6/F/v371Ru7ZMPuWXRnvOx9fjt0qeMukYt59Ndz+vTpmD59ut11IoIXX3wRjz32GO68804AwDvvvIOIiAi89957+OUvf4mqqir8+c9/xrvvvovbb78dAJCamoq+ffti//79mDp1Kr766itkZGTg0KFDGDt2LADg9ddfR0JCAk6fPo0hQ4Zg7969OHXqFM6cOYPo6GgAQEpKCpYuXYqnn37a5uyJCACChwUjeFiw3XUigpIDJegzpQ9CR129+jQocRCOPn4U53LOIXJCJK7UXkH54XIMGTQEwcHBuO6665TY/fTTTwEAp0+fZuySy7nzuMvYJW+n2sEt8/PzUVpaiilTpijLDAYDbr75Zhw8eBAAkJOTg/r6epsy0dHRiIuLU8pkZ2fDaDQqDRcAxo0bB6PRaFMmLi5OabgAMHXqVJjNZuTk5Diso9lsRnV1tc2LyFxhRn11PXpd20tZpvfVI+g/gnAx/+rZ+qUzlyANYnOrwhq7R44cAQAcOXKEsUudqqPHXcYueTvVJk2lpaUAgIiICJvlERERyrrS0lL4+fkhODi4xTLh4eHNth8eHm5TpunnBAcHw8/PTyljT3JyMoxGo/Lq27dvG78leaO66joAgF+Q7XMZfkF+qK+uV8rofHTw9fW1KRMREYGysjIAQFlZGWOXOlVHj7uMXfJ2qn+4pen9exFp9Z5+0zL2yrenTFMbNmzA2rVrlb+rq6vZgMkhZ8bXYeySGmj5uKuF8fEAjpGnVapNmiIjIwFcPRuJiopSlpeXlytnJ5GRkairq0NlZaXNWU95eTnGjx+vlLGe/TR27tw5m+0cPnzYZn1lZSXq6+ubnQk1ZjAYOtyThbyP9QpTXXUd/Iw/XW2qv1gP3yBfpYw0COrr622uNpWXlyM+Ph6A7Zl7Y4xdcpeOHnfVELtaGB8P4Bh5WqXa23MDBgxAZGQk9u3bpyyrq6vDgQMHlIQoPj4evr6+NmVKSkpw4sQJpUxCQgKqqqqUe+0AcPjwYVRVVdmUOXHiBEpKSpQye/fuhcFgUA4CRM4yhBrgG+SLqtNVyjLLFQuqv6tG4IBAAECPvj2g89HhwoULShlr7I4ZMwYAMGbMGMYudaqOHncZu+TtPHqlqaamBv/617+Uv/Pz85Gbm4uQkBD069cPa9aswTPPPINBgwZh0KBBeOaZZ9C9e3csWrQIAGA0GrFs2TKsW7cOoaGhCAkJwfr16zFixAilV8fQoUMxbdo0LF++HK+99hoA4L777sPMmTMxZMgQAMCUKVMwbNgwJCUl4fnnn8ePP/6I9evXY/ny5ezBQXY1mBtgOvfT5XpzhRmXii+hW/duMIQYEHVzFIr3FcO/tz/8e/vj7L6z0Pvq0Tu+NwCgW0A3hI8Nx/dffo9u3bohNzcXjz/+OEaMGIFbb70VADBkyBDGLrlc0+Ou2WxGTU0Nzpw5g8GDB3fouKu22FXV+HgAx8jzAh5Nmr788kulkQFQ7lMvWbIEb7/9Nn7961+jtrYWv/rVr5RB1vbu3YvAwEDlPVu2bEG3bt0wf/58ZZC1t99+Gz4+P01vkJaWhtWrVyu9PWbPnm0zRomPjw8+/vhj/OpXv8KECRNsBlkjsqemqAYnt55U/i7YVQAA6D2mNwYtHoQ+t/eBpd6C73d8jyuXryAwNhDDfjUMPv4/xeWAOQOgz9fj66+/xuTJkxm71CmaHne///57AMDvf/97vPvuu9513LWOj9chHGiTfuLRpOmWW25p8eFYnU6HTZs2YdOmTQ7L+Pv7Y+vWrdi6davDMiEhIUhNTW2xLv369cP//u//tlpnIgAwDjJi/EvjHa7X6XTo9/N+6Pfzfg7L6H31GDhwIAYOHGjzfEPjLtSMXXK1xsfd2tpa5fmfbdu2AejYcZexS95Otc80EREREakJkyYiIiIiJ6h2yAEiInJOe8cmctU4RBxziLoKJk1ERBrnirGJOjIOEcccoq6Ct+eIiIiInMArTeRQ456N5gYPVsSOxvVxZnoSoq7iN3C+k7wAqP/3//sCaMsNtjoAz7WhPJE3YNJEDpnNZuX/V3we3EJJzzKbzejevbvddTYJ1ZVOqpCzGtWHiZ9jfF6nbfwA+LUh/Wn/ZDqMWep6mDSRV2uc+Pn83aeFkp7VUuLX1fF5HSJSCyZN5FDjSTFfmVQJg4pyDnPDT1e/OPEsERF1BiZN5FDjWxIGH8BfRUlTYy3dOmmcUDXMalBXxF/56eoXEz/nvDLpAgw+zt0WEgHqLFf/30/ftmnDzA06rPi8V9srSEReTU0/IUQuZ5NQdYNqI15Lz8x4ksFH2pS8t/+mGp/XIaLmVPoTQkRE1HY2nSoa6h0X9IRG9ekynT862gFHAFh7S/ugbV087elgfZg0ERGR12jc+aPHP9/zYE1a1lU6f6i5A057MGlyI9We8XTFsx0id2jrWWt7z5pb+ZzG7bhO+SD3qnPw+dQx7R1iwxFXDb3RlNaG4nAVJk1upIUznq5ytkPkDmo5i258rPHEgJNqOo407lRx6fpFgI+vB2vTREO98lvgqPOHK4bYcKQjQ2801dJQHP7+/tizZ49LPsdkMin1/vDDD+Hv7++S7QJo17aYNBERkdewufrh46uupKkRb75Ko9Pp3DK2mb+/v8fHTGPS5EaqPeNx4myHiOzryFm0K86a7b2ncTtuyzQqHdF4GhUeR9yjLUNsONKRoTea4lAcTJrcSgtnPN58tkPkDq46i3blWXPjdtzWaVTa76cfcx5H3KOtQ2w44rprM3x2jUkTESlEBLW1te16b1ed642Iug4mTUSkMJlMmDVrVoe3w7neiMgb6T1dASIiIiIt4JUmIrLr0g2JgL4NhwgRwPLvAYX03dr2xKnlCnocS2tbBYmIOhmTJiKyT9+tHZ0XOqPfFrWkLYNbCgDrULe+aNsMFXWtFyHyOkyaiIi8iCcGtyTqKvhMExEREZETeKWJiEjj2jvgpqumqHDl1BZEasakiYhI41wx4KYapqggUjveniMiIiJyAq80EZGqifzUE8zc0Dmf2fhzGn8+EXVtTJqISNXMZrPy/ys+D/bI53fv3r3TP5eI1IdJE3UdVzr4fgFgvQLhg7YNamNPR+tDRC2zdLCRdWTAVnfUhzyOSRN1GT5/d8F04dTpDAaD8v+vTKqEoRN2o7nhp6tajT+ftIWjzJOrMWkiIlXTNTq7N/gA/p2c++o6enWBiLyGqpOmTZs24cknn7RZFhERgdLSUgBXH9B88sknsW3bNlRWVmLs2LF45ZVXMHz4cKW82WzG+vXrsX37dtTW1mLy5Ml49dVXERMTo5SprKzE6tWr8dFHHwEAZs+eja1bt6JXr17u/5LkVu0dv8aeto5p89RTT+GZZ56xWRYeHo6CggIAV+P36aefxptvvomQkBAlfvv27auUZ/ySJ7T32KuG2PVkm28Ljm2lTaofcmD48OEoKSlRXnl5ecq6zZs34w9/+ANefvllHD16FJGRkfjZz36GixcvKmXWrFmDXbt2IT09HZmZmaipqcHMmTPR0PBT95hFixYhNzcXGRkZyMjIQG5uLpKSkjr1e5J7WMevccWr8UHOOqZNSy9fX99m8XvixAll/datW7F161a88sorjF9SHa0eez3Z5tvy4hVMbVL1lSYA6NatGyIjI5stFxG8+OKLeOyxx3DnnXcCAN555x1ERETgvffewy9/+UtUVVXhz3/+M959913cfvvtAIDU1FT07dsX+/fvx9SpU/HVV18hIyMDhw4dwtixYwEAr7/+OhISEnD69GkMGTKk874seZ32xO+OHTsAgPFLHsXYJWpO9Veavv32W0RHR2PAgAH4z//8T3z//fcAgPz8fJSWlmLKlClKWYPBgJtvvhkHDx4EAOTk5KC+vt6mTHR0NOLi4pQy2dnZMBqNSqMFgHHjxsFoNCpliNqrPfF75MgRAEBubi7jlzyGsUvUnKqvNI0dOxZ/+ctfMHjwYJSVleGpp57C+PHjcfLkSeXeekREhM17IiIiUFhYCAAoLS2Fn58fgoODm5Wxvr+0tBTh4eHNPjs8PFwp44jZbLYZQ6a6urrtX5K8Vnvj97vvvgMAlJeXuy1+GbvUEsYukX2qTpqmT5+u/P+IESOQkJCA//iP/8A777yDcePGAWjes0VEWr1X3LSMvfLObCc5ObnZw5JEVmqOX0exazP6dUN9i/VwqUafxRG4PU+LsUvUGVSdNDXVo0cPjBgxAt9++y3mzp0L4OrZSlRUlFKmvLxcOQOKjIxEXV0dKisrbc54ysvLMX78eKVMWVlZs886d+5cszOppjZs2IC1a9cqf1dXV9v0HrGhpkHWOMCaRzgbv9az7/DwcLfFr6PYbXwG3+Of77Xvi3YQR+BWHy3ErrfwxLRBzuL0QhpLmsxmM7766itMnDgRAwYMQGRkJPbt24frr78eAFBXV4cDBw7gueeeAwDEx8fD19cX+/btw/z58wFA6cG0efNmAEBCQgKqqqpw5MgRjBkzBgBw+PBhVFVVKY3bEYPB4PTAdxxkjZyN302bNmH79u247rrr3Ba/bYldIsZu5/H0tEHO6qonN6pOmtavX49Zs2ahX79+KC8vx1NPPYXq6mosWbIEOp0Oa9aswTPPPINBgwZh0KBBeOaZZ9C9e3csWrQIAGA0GrFs2TKsW7cOoaGhCAkJwfr16zFixAilR8fQoUMxbdo0LF++HK+99hoA4L777sPMmTPZe4M6pL3xO2/ePDz00EMeid/GP0aXrl8E+Pi65h+jNQ31ypUtb/5B1Aotxi5RZ1B10lRcXIyFCxfi/Pnz6N27N8aNG4dDhw4hNjYWAPDrX/8atbW1+NWvfqUMsLZ3714EBgYq29iyZQu6deuG+fPnKwOsvf322/Dx+WlY4bS0NKxevVrp6TF79my8/PLLHa6/FgZZ4wBr7qPF+LV5lsTHt/OSJkd1II/QYux6C09MG+QsTi+k8qQpPT29xfU6nQ6bNm3Cpk2bHJbx9/dXBhF0JCQkBKmpqe2tZov1CwgIcPl2rYOskbq1N34b9wbyZPxS18XY9RxPTxvkrK56cqP6cZqIiIiI1EDVV5pIPcwNOgAd6y0hAtRZrv6/n75jHQCv1oe6mrbEYUfijfFFRPYwaSKnrPi8l6erQMQ4JCKP4u05IiIiIifwShM55MrefwB7AFL7tDcOXRVvjC8ismLSRA65q/cfwB6A5DxXxCHjjYhcgbfniIiIiJzAK01ERF5MRGAymeyua7z8jTfewL333utwO/7+/l12bB4iKyZNRERezGQyYerUqa2W27FjB3bs2OFw/Z49e3iLk7o83p4jIiIicgKvNBEReTFHvQ+PHTuGDRs2NFuenJyMG264we52iLo6XmkiIvJi1t6HjV8GgwHJycl2yycnJ8NgMDR7D59nIuKVJiJyxHKlbeVFfnqPvlvb5i1p62dRh2RnZ9tMrttYdXU1srOzMWHChE6uFZH6MWkiIrt6HEvzdBXITRISEhAUFGQ3cTIajUhISPBArairaalnp1Xj9a2VtXJnT08mTUREXYxer8emTZuwdu3aZuuefPJJ6PV8coPcz9menVbWEf5b486enkyaiEjRkalzOG2JtowePRojRoxAXl6esmzkyJF2HwInoquYNBGRwlVT53DaEm14+umnMXfuXFgsFuj1ejz11FOerhJ1Ic6cpIkIzGYzAMBgMDh1282dJ15MmoiIuqhevXph8eLFSE1NxeLFi9GrVy9PV4kaMTfoAEiHtiEC1Fmu/r+fvm39M+zXx3WcPUnr3r27Sz+3I5g0ERF1Yffee2+L06eQ56z4vJenq0BNMGkiInIhZ+d6a6knEOd5I1InJk3U5TnT7RVQX9dXUidnewS11BOI87x1XR3pjGGPqzpoNNVVO2wwaaIur63dXgF1dH0lIu/jqs4Y9rCDRscxaSIicqGWrhQ42xOoq57FE6kdkybq8py9HK62rq+kTq1dKVBTTyAiahsmTdTlteVyOH/wiIi6LiZNRKRZruipBvCB/a6GnT+ovZg0EZFmuaKnGsAH9rsadv6g9mLS5GE84yEiItIGJk0e5g1nPO5K/Jj0qY/aBm50RU8163ao6/CGzh887noGkybqMHclfrzMrT5qG7iRPdWoPbyh8wePu57BpMnDvOGMh4iIqCtg0uRh3nDG467Ej0mf+nDgRiJ14HHXM5g0UYd5Q+JHzuHtMCJ14HHXM/SergARERGRFjBpauLVV1/FgAED4O/vj/j4eHzxxReerhKRUxi7pFWMXdIKJk2NvP/++1izZg0ee+wx/POf/8TEiRMxffp0FBUVebpqRC1i7JJWMXZJS3QiIp6uhFqMHTsWN9xwA/74xz8qy4YOHYq5c+ciOTm51fdXV1fDaDSiqqoKQUFB7qwqebH2xBFjl9SAsUta5Wwc8UrTv9XV1SEnJwdTpkyxWT5lyhQcPHjQ7nvMZjOqq6ttXkSdjbFLWsXYJa1h0vRv58+fR0NDAyIiImyWR0REoLS01O57kpOTYTQalVffvn07o6pENhi7pFWMXdIaJk1NNB3DQkQcjmuxYcMGVFVVKa8zZ850RhWJ7GLsklYxdkkrOE7Tv4WFhcHHx6fZ2U15eXmzsyArg8EAg8HQGdUjcoixS1rF2CWt4ZWmf/Pz80N8fDz27dtns3zfvn0YP368h2pF1DrGLmkVY5e0hleaGlm7di2SkpIwevRoJCQkYNu2bSgqKsL999/v6aoRtYixS1rF2CUtYdLUyIIFC1BRUYHf/e53KCkpQVxcHHbv3o3Y2FhPV42oRYxd0irGLmkJx2lyIY4XQq7giThi7JIrMHZJqzhOExEREZEL8facC1kv2nGwNeoIa/x05kVgxi65AmOXtMrZ2GXS5EIXL14EAA62Ri5x8eJFGI3GTvssgLFLrsHYJa1qLXb5TJMLWSwW/PDDDwgMDHQ4MFtHVFdXo2/fvjhz5oxm791r/Tt0Rv1FBBcvXkR0dDT0+s65g+6q2FXb/lVbfQD11cmV9dFy7Dqitv3VHlr/Dmo67vJKkwvp9XrExMS4/XOCgoI0GfiNaf07uLv+nXWWbuXq2FXb/lVbfQD11clV9dF67Dqitv3VHlr/Dmo47vJBcCIiIiInMGkiIiIicgKTJg0xGAzYuHGjpudd0vp30Hr93U1t/z5qqw+gvjqprT5q4w3/Plr/DmqqPx8EJyIiInICrzQREREROYFJExEREZETmDSR291yyy1Ys2aNp6tB5NFYZDsgahs1thkmTUREREROYNJERERE5AQmTRqRkZGBm266Cb169UJoaChmzpyJ7777ztPVctqVK1ewcuVKpf6PP/54p07q6QoWiwXPPfccBg4cCIPBgH79+uHpp5/2dLVUQ20xeunSJdx9993o2bMnoqKikJKS4rG6WKmtHTCmW6a2mG4Pre9jtbUZJk0acenSJaxduxZHjx7FJ598Ar1ejzvuuAMWi8XTVXPKO++8g27duuHw4cN46aWXsGXLFrzxxhuerlabbNiwAc899xyeeOIJnDp1Cu+99x4iIiI8XS3VUFuMPvzww/j000+xa9cu7N27F5999hlycnI8UhcrtbUDxnTL1BbT7aH1fay2NgMhTSovLxcAkpeX5+mqtOrmm2+WoUOHisViUZb95je/kaFDh3qwVm1TXV0tBoNBXn/9dU9XRTM8GaMXL14UPz8/SU9PV5ZVVFRIQECAPPjgg51eHxH1tQPGdNtp6bgrov19rLY2IyLCK00a8d1332HRokW45pprEBQUhAEDBgAAioqKPFwz54wbN85mBvKEhAR8++23aGho8GCtnPfVV1/BbDZj8uTJnq6KaqkpRr/77jvU1dUhISFBWRYSEoIhQ4Z0el0aU1M7YEy3Tk0x3R7esI/V1GYAoJtHPpXabNasWejbty9ef/11REdHw2KxIC4uDnV1dZ6uWpcQEBDg6SqonppiVDT2vJwnMKZbp6aYbg/uY9fjlSYNqKiowFdffYXHH38ckydPxtChQ1FZWenparXJoUOHmv09aNAg+Pj4eKhGbTNo0CAEBATgk08+8XRVVEltMTpw4ED4+vraxF1lZSW++eYbj9UJUFc7YEy3TG0x3R7esI/V1GYAXmnShODgYISGhmLbtm2IiopCUVERHnnkEU9Xq03OnDmDtWvX4pe//CWOHTuGrVu3qqI3k7P8/f3xm9/8Br/+9a/h5+eHCRMm4Ny5czh58iSWLVvm6ep5nNpitGfPnli2bBkefvhhhIaGIiIiAo899hj0es+eJ6qpHTCmW6a2mG4Pb9jHamozAJMmTdDr9UhPT8fq1asRFxeHIUOG4KWXXsItt9zi6ao57e6770ZtbS3GjBkDHx8frFq1Cvfdd5+nq9UmTzzxBLp164bf/va3+OGHHxAVFYX777/f09VSBTXG6PPPP4+amhrMnj0bgYGBWLduHaqqqjxWH0B97YAx7ZgaY7o9tL6P1dZmdMKb/0RERESt4jNNRERERE5g0kRERETkBCZNRERERE5g0kRERETkBCZNRERERE5g0kRERETkBCZNRERERE5g0kRERETkBCZN5HabNm3Cdddd16FtfPbZZ9DpdLhw4QIA4O2330avXr3c/rlERERWTJq81NKlSzF37tw2v08ricaCBQs8PvkqeVZ7Y9wd1FQXosbUFpvOnPCqGeeeI00KCAhAQECAp6tBXqCurg5+fn6ergaRSzU0NECn03m6Gt5HSNN27NghcXFx4u/vLyEhITJ58mRZv369ALB5ffrppyIi8utf/1oGDRokAQEBMmDAAHn88celrq5ORETeeuutZu976623RETkwoULsnz5cundu7cEBgbKrbfeKrm5uU7VcePGjTJq1Cj5y1/+IrGxsRIUFCQLFiyQ6upqpYzJZJJVq1ZJ7969xWAwyIQJE+TIkSPK+k8//VQASGVlpVJXo9Fo8znJyckSHh4uPXv2lHvuuUd+85vfyKhRo5T1R44ckdtvv11CQ0MlKChIJk2aJDk5Ocr6//qv/5IZM2bYbLO+vl4iIiLkz3/+s1PflVyvrTF+/PhxufXWW5Xyy5cvl4sXLyrbW7JkicyZM0eeeeYZiYqKktjYWBERKS4ulvnz50uvXr0kJCREZs+eLfn5+a3Wb+PGjXbrcuutt8qKFStsyp4/f178/Pzkk08+ERGR2NhY+d3vficLFy6UHj16SFRUlLz00ks27+lI26PO949//EMmTJggRqNRQkJCZMaMGfKvf/1LRETMZrOsWLFCIiMjxWAwSGxsrDzzzDPKezdu3Ch9+/YVPz8/iYqKklWrVinrfvzxR0lKSpJevXpJQECATJs2Tb755htlvfWY+Pe//12GDh0qPj4+cvfdd9uNzfz8fAEg77//vtx0003i7+8vo0ePltOnT8uRI0ckPj5eevToIVOnTpXy8nKb7/fmm2/KtddeKwaDQYYMGSKvvPKKss663Z07d8ott9wiAQEBMnLkSDl48KCI/HQcb/zauHGjO3aD2zBp0rAffvhBunXrJn/4wx8kPz9fjh8/Lq+88opcvHhR5s+fL9OmTZOSkhIpKSkRs9ksIiK///3vJSsrS/Lz8+Wjjz6SiIgIee6550RE5PLly7Ju3ToZPny48r7Lly+LxWKRCRMmyKxZs+To0aPyzTffyLp16yQ0NFQqKiparefGjRulZ8+ecuedd0peXp58/vnnEhkZKY8++qhSZvXq1RIdHS27d++WkydPypIlSyQ4OFjZfmtJ0/vvvy9+fn7y+uuvy9dffy2PPfaYBAYG2iRNn3zyibz77rty6tQpOXXqlCxbtkwiIiKU5C0rK0t8fHzkhx9+UN7z4YcfSo8ePWx+dKnztDXGL126JNHR0UqsffLJJzJgwABZsmSJss0lS5ZIz549JSkpSU6cOCF5eXly6dIlGTRokNxzzz1y/PhxOXXqlCxatEiGDBmitB1HHNUlLS1NgoODxWQyKWX/+7//W/r37y8Wi0VEriZNgYGBkpycLKdPn5aXXnpJfHx8ZO/evSIiHW571Pk++OAD2blzp3zzzTfyz3/+U2bNmiUjRoyQhoYGef7556Vv377y+eefS0FBgXzxxRfy3nvvicjVk4OgoCDZvXu3FBYWyuHDh2Xbtm3KdmfPni1Dhw6Vzz//XHJzc2Xq1KkycOBAm5NeX19fGT9+vGRlZcnXX38tFy5csBub1uTm2muvlYyMDDl16pSMGzdObrjhBrnlllskMzNTjh07JgMHDpT7779fqcO2bdskKipKdu7cKd9//73s3LlTQkJC5O233xYRsdnu//7v/8rp06flrrvuktjYWKmvrxez2SwvvviiBAUFKfXR2rGVSZOG5eTkCAApKChots56Nt2azZs3S3x8vPK39apQY5988okEBQXZHPxFRP7jP/5DXnvttVY/Y+PGjdK9e3ebK0sPP/ywjB07VkREampqxNfXV9LS0pT1dXV1Eh0dLZs3bxaR1pOmhIQEm8YtIjJ27Nhm36WxK1euSGBgoPz9739Xlg0bNkxJIkVE5s6dK0uXLm31O5J7tDXGt23bJsHBwVJTU6Ms+/jjj0Wv10tpaanyvoiICJtk6M9//rMMGTJESWZErl4VCAgIkD179rRaT3t1MZlMEhISIu+//76y7LrrrpNNmzYpf8fGxsq0adNs3rdgwQKZPn26iHS87ZHnlZeXCwDJy8uTVatWyW233WYTZ1YpKSkyePBgJQlq7JtvvhEAkpWVpSw7f/68BAQEyF//+lcR+elOQdOrkPZi05rcvPHGG8qy7du3CwDlKqjI1av3Q4YMUf7u27evkuRZ/f73v5eEhASH2z158qQAkK+++kqpZ9O7BFrCB8E1bNSoUZg8eTJGjBiBefPm4fXXX0dlZWWL7/nggw9w0003ITIyEj179sQTTzyBoqKiFt+Tk5ODmpoahIaGomfPnsorPz8f3333nVN17d+/PwIDA5W/o6KiUF5eDgD47rvvUF9fjwkTJijrfX19MWbMGHz11VdObf+rr75CQkKCzbKmf5eXl+P+++/H4MGDYTQaYTQaUVNTY/P97733Xrz11ltK+Y8//hj33HOPU3Ug12trjH/11VcYNWoUevTooSybMGECLBYLTp8+rSwbMWKEzXNMOTk5+Ne//oXAwEAlvkNCQmAymZyO8aYMBgMWL16MN998EwCQm5uL//f//h+WLl1qU85e3Frj3hVtjzrXd999h0WLFuGaa65BUFAQBgwYAAAoKirC0qVLkZubiyFDhmD16tXYu3ev8r558+ahtrYW11xzDZYvX45du3bhypUrAK7Gdbdu3TB27FilfGhoKIYMGWJzjPTz88PIkSOdrmvjshEREQCuto3Gy6zH6XPnzuHMmTNYtmyZTSw+9dRTzWKx8XajoqIAQNmO1vFBcA3z8fHBvn37cPDgQezduxdbt27FY489hsOHD9stf+jQIfznf/4nnnzySUydOhVGoxHp6elISUlp8XMsFguioqLw2WefNVvnbC8IX19fm791Oh0sFgsAQESUZY2JiEsfZFy6dCnOnTuHF198EbGxsTAYDEhISEBdXZ1S5u6778YjjzyC7OxsZGdno3///pg4caLL6kBt09YYbylmGi9vnFQBV2M8Pj4eaWlpzd7Xu3fvdtf/3nvvxXXXXYfi4mK8+eabmDx5MmJjY1t9n7Wurmh71LlmzZqFvn374vXXX0d0dDQsFgvi4uJQV1eHG264Afn5+fjHP/6B/fv3Y/78+bj99tvxwQcfoG/fvjh9+jT27duH/fv341e/+hWef/55HDhwQDlGNtU03gMCAtp0zGx8XLa+r+ky63Ha+t/XX3/dJnkDrrbT1rZrfb/WMWnSOJ1OhwkTJmDChAn47W9/i9jYWOzatQt+fn5oaGiwKZuVlYXY2Fg89thjyrLCwkKbMvbed8MNN6C0tBTdunVD//79Xf4dBg4cCD8/P2RmZmLRokUAgPr6enz55ZdYs2aNU9sYOnQoDh06hLvvvltZdujQIZsyX3zxBV599VX8/Oc/BwCcOXMG58+ftykTGhqKuXPn4q233kJ2djb+67/+qwPfjFyhLTE+bNgwvPPOO7h06ZKSGGVlZUGv12Pw4MEOP+OGG27A+++/j/DwcAQFBbW5jvbqAlw9ax89ejRef/11vPfee9i6dWuzMk3j9NChQ7j22muVermz7ZFrVVRU4KuvvsJrr72mnGxlZmbalAkKCsKCBQuwYMEC3HXXXZg2bRp+/PFHhISEICAgALNnz8bs2bOxYsUKXHvttcjLy8OwYcNw5coVHD58GOPHj1c+65tvvsHQoUNbrJOj2GyriIgI9OnTB99//z0SExPbvR1X1cdTmDRp2OHDh/HJJ59gypQpCA8Px+HDh3Hu3DkMHToUJpMJe/bswenTpxEaGgqj0YiBAweiqKgI6enpuPHGG/Hxxx9j165dNtvs378/8vPzkZubi5iYGAQGBuL2229HQkIC5s6di+eeew5DhgzBDz/8gN27d2Pu3LkYPXp0h75Hjx498MADD+Dhhx9GSEgI+vXrh82bN+Py5ctYtmyZU9t48MEHsWTJEowePRo33XQT0tLScPLkSVxzzTVKmYEDB+Ldd9/F6NGjUV1djYcfftjusAX33nsvZs6ciYaGBixZsqRD3406pq0xnpiYiI0bN2LJkiXYtGkTzp07h1WrViEpKUm5/WBPYmIinn/+ecyZMwe/+93vEBMTg6KiIvztb3/Dww8/jJiYmBbr2b9//2Z1sZ5t33vvvVi5ciW6d++OO+64o9l7s7KysHnzZsydOxf79u3Djh078PHHHwOA29seuVZwcDBCQ0Oxbds2REVFoaioCI888oiyfsuWLYiKisJ1110HvV6PHTt2IDIyEr169cLbb7+NhoYGjB07Ft27d8e7776LgIAAxMbGIjQ0FHPmzMHy5cvx2muvITAwEI888gj69OmDOXPmtFgne7HZXps2bcLq1asRFBSE6dOnw2w248svv0RlZSXWrl3r1Db69++PmpoafPLJJxg1ahS6d++O7t27t7tOnc6jT1RRh5w6dUqmTp2qdNMfPHiwbN26VUSuPnz4s5/9THr27GnTHfvhhx+W0NBQ6dmzpyxYsEC2bNli81CeyWSSX/ziF9KrVy+bIQeqq6tl1apVEh0dLb6+vtK3b19JTEyUoqKiVutp7+HyLVu2KF29RURqa2tl1apVEhYW1u4hB55++mkJCwuTnj17ypIlS+TXv/61zeceO3ZMRo8eLQaDQQYNGiQ7duyQ2NhY2bJli812LBaLxMbGys9//vNWvxu5V3ti3NkhB5oqKSmRu+++W4nBa665RpYvXy5VVVWt1tNRXUSu9q7r3r27/OpXv2r2vtjYWHnyySdl/vz50r17d4mIiJAXX3zRpkxH2h51vn379snQoUPFYDDIyJEj5bPPPhMAsmvXLtm2bZtcd9110qNHDwkKCpLJkyfLsWPHRERk165dMnbsWAkKCpIePXrIuHHjZP/+/cp2rUMOGI1GCQgIkKlTp9odcqApe7FpfWD7n//8p1Ku6THW0TbT0tLkuuuuEz8/PwkODpZJkybJ3/72NxERu9utrKxs1ibuv/9+CQ0N1eSQAzoRBzdLibqoy5cvIzo6Gm+++SbuvPNOT1eHNO7MmTPo378/jh49ihtuuMFmXf/+/bFmzRqnb0MTkWfx9hzRv1ksFpSWliIlJQVGoxGzZ8/2dJVIw+rr61FSUoJHHnkE48aNa5YwEZH2cMgB6rDhw4fbdEFt/LLXG0mtioqK0KdPH/z1r3/Fm2++iW7deE5BVzmK7549e+KLL76w+x5rx4ucnBz86U9/6uQaE5E78PYcdVhhYSHq6+vtrouIiLAZn4lIi/71r385XNenTx/Og0jURTBpIiIiInICb88REREROYFJExEREZETmDQREREROYFJExEREZETmDQREREROYFJExEREZETmDQREREROYFJExEREZET/j88sD5aAwN3zwAAAABJRU5ErkJggg==\n",
      "text/plain": [
       "<Figure size 640x480 with 3 Axes>"
      ]
     },
     "metadata": {},
     "output_type": "display_data"
    }
   ],
   "source": [
    "aux1 = df1[(df1['state_holiday'] != '0') & (df1['sales'] > 0)]\n",
    "\n",
    "plt.subplot(1, 3, 1)\n",
    "sns.boxplot(x='state_holiday', y='sales', data=aux1)\n",
    "\n",
    "plt.subplot(1, 3, 2)\n",
    "sns.boxplot(x='store_type', y='sales', data=aux1)\n",
    "\n",
    "plt.subplot(1, 3, 3)\n",
    "sns.boxplot(x='assortment', y='sales', data=aux1)"
   ]
  },
  {
   "cell_type": "markdown",
   "id": "7029d532",
   "metadata": {
    "ExecuteTime": {
     "end_time": "2022-12-15T17:46:17.312085Z",
     "start_time": "2022-12-15T17:46:17.312085Z"
<<<<<<< HEAD
    },
    "heading_collapsed": true
=======
    }
>>>>>>> f6031340e4b112c58bf82ae3d95ff7531dd72b01
   },
   "source": [
    "# 2.0. PASSO 02 - FEATURE ENGINEERING"
   ]
  },
  {
   "cell_type": "code",
<<<<<<< HEAD
   "execution_count": 24,
   "id": "d0af3a82",
   "metadata": {
    "ExecuteTime": {
     "end_time": "2022-12-16T00:46:53.153084Z",
     "start_time": "2022-12-16T00:46:53.077634Z"
    },
    "hidden": true
=======
   "execution_count": 25,
   "id": "d0af3a82",
   "metadata": {
    "ExecuteTime": {
     "end_time": "2022-12-15T18:59:38.850088Z",
     "start_time": "2022-12-15T18:59:38.746631Z"
    }
>>>>>>> f6031340e4b112c58bf82ae3d95ff7531dd72b01
   },
   "outputs": [],
   "source": [
    "df2 = df1.copy()"
   ]
  },
  {
   "cell_type": "markdown",
   "id": "8d63eb4d",
   "metadata": {
    "ExecuteTime": {
     "end_time": "2022-12-15T18:25:25.716093Z",
     "start_time": "2022-12-15T18:25:25.699080Z"
    },
<<<<<<< HEAD
    "heading_collapsed": true,
    "hidden": true
=======
    "heading_collapsed": true
>>>>>>> f6031340e4b112c58bf82ae3d95ff7531dd72b01
   },
   "source": [
    "## 2.1. Mapa Mental de Hipoteses"
   ]
  },
  {
   "cell_type": "code",
<<<<<<< HEAD
   "execution_count": 25,
   "id": "8c581e77",
   "metadata": {
    "ExecuteTime": {
     "end_time": "2022-12-16T00:46:53.703739Z",
     "start_time": "2022-12-16T00:46:53.155969Z"
=======
   "execution_count": 21,
   "id": "8c581e77",
   "metadata": {
    "ExecuteTime": {
     "end_time": "2022-12-15T17:48:47.411210Z",
     "start_time": "2022-12-15T17:48:47.339989Z"
>>>>>>> f6031340e4b112c58bf82ae3d95ff7531dd72b01
    },
    "hidden": true
   },
   "outputs": [
    {
<<<<<<< HEAD
     "ename": "FileNotFoundError",
     "evalue": "No such file or directory: 'C:/Users/pedro/Data Scientist em Produção/img/MindMapHypothesis.png'",
     "output_type": "error",
     "traceback": [
      "\u001b[1;31m---------------------------------------------------------------------------\u001b[0m",
      "\u001b[1;31mTypeError\u001b[0m                                 Traceback (most recent call last)",
      "File \u001b[1;32m~\\anaconda3\\envs\\DataScienceEmProducao\\lib\\site-packages\\IPython\\core\\display.py:1045\u001b[0m, in \u001b[0;36mImage._data_and_metadata\u001b[1;34m(self, always_both)\u001b[0m\n\u001b[0;32m   1044\u001b[0m \u001b[38;5;28;01mtry\u001b[39;00m:\n\u001b[1;32m-> 1045\u001b[0m     b64_data \u001b[38;5;241m=\u001b[39m \u001b[43mb2a_base64\u001b[49m\u001b[43m(\u001b[49m\u001b[38;5;28;43mself\u001b[39;49m\u001b[38;5;241;43m.\u001b[39;49m\u001b[43mdata\u001b[49m\u001b[43m)\u001b[49m\u001b[38;5;241m.\u001b[39mdecode(\u001b[38;5;124m'\u001b[39m\u001b[38;5;124mascii\u001b[39m\u001b[38;5;124m'\u001b[39m)\n\u001b[0;32m   1046\u001b[0m \u001b[38;5;28;01mexcept\u001b[39;00m \u001b[38;5;167;01mTypeError\u001b[39;00m \u001b[38;5;28;01mas\u001b[39;00m e:\n",
      "\u001b[1;31mTypeError\u001b[0m: a bytes-like object is required, not 'str'",
      "\nThe above exception was the direct cause of the following exception:\n",
      "\u001b[1;31mFileNotFoundError\u001b[0m                         Traceback (most recent call last)",
      "File \u001b[1;32m~\\anaconda3\\envs\\DataScienceEmProducao\\lib\\site-packages\\IPython\\core\\formatters.py:972\u001b[0m, in \u001b[0;36mMimeBundleFormatter.__call__\u001b[1;34m(self, obj, include, exclude)\u001b[0m\n\u001b[0;32m    969\u001b[0m     method \u001b[38;5;241m=\u001b[39m get_real_method(obj, \u001b[38;5;28mself\u001b[39m\u001b[38;5;241m.\u001b[39mprint_method)\n\u001b[0;32m    971\u001b[0m     \u001b[38;5;28;01mif\u001b[39;00m method \u001b[38;5;129;01mis\u001b[39;00m \u001b[38;5;129;01mnot\u001b[39;00m \u001b[38;5;28;01mNone\u001b[39;00m:\n\u001b[1;32m--> 972\u001b[0m         \u001b[38;5;28;01mreturn\u001b[39;00m \u001b[43mmethod\u001b[49m\u001b[43m(\u001b[49m\u001b[43minclude\u001b[49m\u001b[38;5;241;43m=\u001b[39;49m\u001b[43minclude\u001b[49m\u001b[43m,\u001b[49m\u001b[43m \u001b[49m\u001b[43mexclude\u001b[49m\u001b[38;5;241;43m=\u001b[39;49m\u001b[43mexclude\u001b[49m\u001b[43m)\u001b[49m\n\u001b[0;32m    973\u001b[0m     \u001b[38;5;28;01mreturn\u001b[39;00m \u001b[38;5;28;01mNone\u001b[39;00m\n\u001b[0;32m    974\u001b[0m \u001b[38;5;28;01melse\u001b[39;00m:\n",
      "File \u001b[1;32m~\\anaconda3\\envs\\DataScienceEmProducao\\lib\\site-packages\\IPython\\core\\display.py:1035\u001b[0m, in \u001b[0;36mImage._repr_mimebundle_\u001b[1;34m(self, include, exclude)\u001b[0m\n\u001b[0;32m   1033\u001b[0m \u001b[38;5;28;01mif\u001b[39;00m \u001b[38;5;28mself\u001b[39m\u001b[38;5;241m.\u001b[39membed:\n\u001b[0;32m   1034\u001b[0m     mimetype \u001b[38;5;241m=\u001b[39m \u001b[38;5;28mself\u001b[39m\u001b[38;5;241m.\u001b[39m_mimetype\n\u001b[1;32m-> 1035\u001b[0m     data, metadata \u001b[38;5;241m=\u001b[39m \u001b[38;5;28;43mself\u001b[39;49m\u001b[38;5;241;43m.\u001b[39;49m\u001b[43m_data_and_metadata\u001b[49m\u001b[43m(\u001b[49m\u001b[43malways_both\u001b[49m\u001b[38;5;241;43m=\u001b[39;49m\u001b[38;5;28;43;01mTrue\u001b[39;49;00m\u001b[43m)\u001b[49m\n\u001b[0;32m   1036\u001b[0m     \u001b[38;5;28;01mif\u001b[39;00m metadata:\n\u001b[0;32m   1037\u001b[0m         metadata \u001b[38;5;241m=\u001b[39m {mimetype: metadata}\n",
      "File \u001b[1;32m~\\anaconda3\\envs\\DataScienceEmProducao\\lib\\site-packages\\IPython\\core\\display.py:1047\u001b[0m, in \u001b[0;36mImage._data_and_metadata\u001b[1;34m(self, always_both)\u001b[0m\n\u001b[0;32m   1045\u001b[0m     b64_data \u001b[38;5;241m=\u001b[39m b2a_base64(\u001b[38;5;28mself\u001b[39m\u001b[38;5;241m.\u001b[39mdata)\u001b[38;5;241m.\u001b[39mdecode(\u001b[38;5;124m'\u001b[39m\u001b[38;5;124mascii\u001b[39m\u001b[38;5;124m'\u001b[39m)\n\u001b[0;32m   1046\u001b[0m \u001b[38;5;28;01mexcept\u001b[39;00m \u001b[38;5;167;01mTypeError\u001b[39;00m \u001b[38;5;28;01mas\u001b[39;00m e:\n\u001b[1;32m-> 1047\u001b[0m     \u001b[38;5;28;01mraise\u001b[39;00m \u001b[38;5;167;01mFileNotFoundError\u001b[39;00m(\n\u001b[0;32m   1048\u001b[0m         \u001b[38;5;124m\"\u001b[39m\u001b[38;5;124mNo such file or directory: \u001b[39m\u001b[38;5;124m'\u001b[39m\u001b[38;5;132;01m%s\u001b[39;00m\u001b[38;5;124m'\u001b[39m\u001b[38;5;124m\"\u001b[39m \u001b[38;5;241m%\u001b[39m (\u001b[38;5;28mself\u001b[39m\u001b[38;5;241m.\u001b[39mdata)) \u001b[38;5;28;01mfrom\u001b[39;00m \u001b[38;5;21;01me\u001b[39;00m\n\u001b[0;32m   1049\u001b[0m md \u001b[38;5;241m=\u001b[39m {}\n\u001b[0;32m   1050\u001b[0m \u001b[38;5;28;01mif\u001b[39;00m \u001b[38;5;28mself\u001b[39m\u001b[38;5;241m.\u001b[39mmetadata:\n",
      "\u001b[1;31mFileNotFoundError\u001b[0m: No such file or directory: 'C:/Users/pedro/Data Scientist em Produção/img/MindMapHypothesis.png'"
     ]
    },
    {
     "ename": "FileNotFoundError",
     "evalue": "No such file or directory: 'C:/Users/pedro/Data Scientist em Produção/img/MindMapHypothesis.png'",
     "output_type": "error",
     "traceback": [
      "\u001b[1;31m---------------------------------------------------------------------------\u001b[0m",
      "\u001b[1;31mTypeError\u001b[0m                                 Traceback (most recent call last)",
      "File \u001b[1;32m~\\anaconda3\\envs\\DataScienceEmProducao\\lib\\site-packages\\IPython\\core\\display.py:1045\u001b[0m, in \u001b[0;36mImage._data_and_metadata\u001b[1;34m(self, always_both)\u001b[0m\n\u001b[0;32m   1044\u001b[0m \u001b[38;5;28;01mtry\u001b[39;00m:\n\u001b[1;32m-> 1045\u001b[0m     b64_data \u001b[38;5;241m=\u001b[39m \u001b[43mb2a_base64\u001b[49m\u001b[43m(\u001b[49m\u001b[38;5;28;43mself\u001b[39;49m\u001b[38;5;241;43m.\u001b[39;49m\u001b[43mdata\u001b[49m\u001b[43m)\u001b[49m\u001b[38;5;241m.\u001b[39mdecode(\u001b[38;5;124m'\u001b[39m\u001b[38;5;124mascii\u001b[39m\u001b[38;5;124m'\u001b[39m)\n\u001b[0;32m   1046\u001b[0m \u001b[38;5;28;01mexcept\u001b[39;00m \u001b[38;5;167;01mTypeError\u001b[39;00m \u001b[38;5;28;01mas\u001b[39;00m e:\n",
      "\u001b[1;31mTypeError\u001b[0m: a bytes-like object is required, not 'str'",
      "\nThe above exception was the direct cause of the following exception:\n",
      "\u001b[1;31mFileNotFoundError\u001b[0m                         Traceback (most recent call last)",
      "File \u001b[1;32m~\\anaconda3\\envs\\DataScienceEmProducao\\lib\\site-packages\\IPython\\core\\formatters.py:342\u001b[0m, in \u001b[0;36mBaseFormatter.__call__\u001b[1;34m(self, obj)\u001b[0m\n\u001b[0;32m    340\u001b[0m     method \u001b[38;5;241m=\u001b[39m get_real_method(obj, \u001b[38;5;28mself\u001b[39m\u001b[38;5;241m.\u001b[39mprint_method)\n\u001b[0;32m    341\u001b[0m     \u001b[38;5;28;01mif\u001b[39;00m method \u001b[38;5;129;01mis\u001b[39;00m \u001b[38;5;129;01mnot\u001b[39;00m \u001b[38;5;28;01mNone\u001b[39;00m:\n\u001b[1;32m--> 342\u001b[0m         \u001b[38;5;28;01mreturn\u001b[39;00m \u001b[43mmethod\u001b[49m\u001b[43m(\u001b[49m\u001b[43m)\u001b[49m\n\u001b[0;32m    343\u001b[0m     \u001b[38;5;28;01mreturn\u001b[39;00m \u001b[38;5;28;01mNone\u001b[39;00m\n\u001b[0;32m    344\u001b[0m \u001b[38;5;28;01melse\u001b[39;00m:\n",
      "File \u001b[1;32m~\\anaconda3\\envs\\DataScienceEmProducao\\lib\\site-packages\\IPython\\core\\display.py:1067\u001b[0m, in \u001b[0;36mImage._repr_png_\u001b[1;34m(self)\u001b[0m\n\u001b[0;32m   1065\u001b[0m \u001b[38;5;28;01mdef\u001b[39;00m \u001b[38;5;21m_repr_png_\u001b[39m(\u001b[38;5;28mself\u001b[39m):\n\u001b[0;32m   1066\u001b[0m     \u001b[38;5;28;01mif\u001b[39;00m \u001b[38;5;28mself\u001b[39m\u001b[38;5;241m.\u001b[39membed \u001b[38;5;129;01mand\u001b[39;00m \u001b[38;5;28mself\u001b[39m\u001b[38;5;241m.\u001b[39mformat \u001b[38;5;241m==\u001b[39m \u001b[38;5;28mself\u001b[39m\u001b[38;5;241m.\u001b[39m_FMT_PNG:\n\u001b[1;32m-> 1067\u001b[0m         \u001b[38;5;28;01mreturn\u001b[39;00m \u001b[38;5;28;43mself\u001b[39;49m\u001b[38;5;241;43m.\u001b[39;49m\u001b[43m_data_and_metadata\u001b[49m\u001b[43m(\u001b[49m\u001b[43m)\u001b[49m\n",
      "File \u001b[1;32m~\\anaconda3\\envs\\DataScienceEmProducao\\lib\\site-packages\\IPython\\core\\display.py:1047\u001b[0m, in \u001b[0;36mImage._data_and_metadata\u001b[1;34m(self, always_both)\u001b[0m\n\u001b[0;32m   1045\u001b[0m     b64_data \u001b[38;5;241m=\u001b[39m b2a_base64(\u001b[38;5;28mself\u001b[39m\u001b[38;5;241m.\u001b[39mdata)\u001b[38;5;241m.\u001b[39mdecode(\u001b[38;5;124m'\u001b[39m\u001b[38;5;124mascii\u001b[39m\u001b[38;5;124m'\u001b[39m)\n\u001b[0;32m   1046\u001b[0m \u001b[38;5;28;01mexcept\u001b[39;00m \u001b[38;5;167;01mTypeError\u001b[39;00m \u001b[38;5;28;01mas\u001b[39;00m e:\n\u001b[1;32m-> 1047\u001b[0m     \u001b[38;5;28;01mraise\u001b[39;00m \u001b[38;5;167;01mFileNotFoundError\u001b[39;00m(\n\u001b[0;32m   1048\u001b[0m         \u001b[38;5;124m\"\u001b[39m\u001b[38;5;124mNo such file or directory: \u001b[39m\u001b[38;5;124m'\u001b[39m\u001b[38;5;132;01m%s\u001b[39;00m\u001b[38;5;124m'\u001b[39m\u001b[38;5;124m\"\u001b[39m \u001b[38;5;241m%\u001b[39m (\u001b[38;5;28mself\u001b[39m\u001b[38;5;241m.\u001b[39mdata)) \u001b[38;5;28;01mfrom\u001b[39;00m \u001b[38;5;21;01me\u001b[39;00m\n\u001b[0;32m   1049\u001b[0m md \u001b[38;5;241m=\u001b[39m {}\n\u001b[0;32m   1050\u001b[0m \u001b[38;5;28;01mif\u001b[39;00m \u001b[38;5;28mself\u001b[39m\u001b[38;5;241m.\u001b[39mmetadata:\n",
      "\u001b[1;31mFileNotFoundError\u001b[0m: No such file or directory: 'C:/Users/pedro/Data Scientist em Produção/img/MindMapHypothesis.png'"
     ]
    },
    {
     "data": {
=======
     "data": {
      "image/png": "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\n",
>>>>>>> f6031340e4b112c58bf82ae3d95ff7531dd72b01
      "text/plain": [
       "<IPython.core.display.Image object>"
      ]
     },
<<<<<<< HEAD
     "execution_count": 25,
=======
     "execution_count": 21,
>>>>>>> f6031340e4b112c58bf82ae3d95ff7531dd72b01
     "metadata": {},
     "output_type": "execute_result"
    }
   ],
   "source": [
    "Image('C:/Users/pedro/Data Scientist em Produção/img/MindMapHypothesis.png')"
   ]
  },
  {
   "cell_type": "markdown",
   "id": "1338829a",
<<<<<<< HEAD
   "metadata": {
    "hidden": true
   },
=======
   "metadata": {},
>>>>>>> f6031340e4b112c58bf82ae3d95ff7531dd72b01
   "source": [
    "## 2.2. Criação das Hipoteses"
   ]
  },
  {
   "cell_type": "markdown",
   "id": "4d874a9a",
<<<<<<< HEAD
   "metadata": {
    "hidden": true
   },
=======
   "metadata": {},
>>>>>>> f6031340e4b112c58bf82ae3d95ff7531dd72b01
   "source": [
    "### 2.2.1. Hipoteses Loja"
   ]
  },
  {
   "cell_type": "markdown",
   "id": "d73fe062",
   "metadata": {
    "ExecuteTime": {
     "end_time": "2022-12-15T18:27:23.666329Z",
     "start_time": "2022-12-15T18:27:23.658860Z"
<<<<<<< HEAD
    },
    "hidden": true
=======
    }
>>>>>>> f6031340e4b112c58bf82ae3d95ff7531dd72b01
   },
   "source": [
    "**1.** Lojas com maior quadro de funcionários deveriam vender mais.\n",
    "\n",
    "**2.** Lojas com maior estoque deveriam vender mais.\n",
    "\n",
    "**3.** Lojas com maior porte deveriam vender mais.\n",
    "\n",
    "**4.** Lojas com menor porte deveriam vender menos.\n",
    "\n",
    "**5.** Lojas com maior sortimento deveriam vender mais.\n",
    "\n",
    "**6.** Lojas com competidores mais próximos deveriam vender menos.\n",
    "\n",
    "**7.** Lojas com competidores a mais tempo deveriam vender mais."
   ]
  },
  {
   "cell_type": "markdown",
   "id": "ebefdd4c",
   "metadata": {
<<<<<<< HEAD
    "heading_collapsed": true,
    "hidden": true
=======
    "heading_collapsed": true
>>>>>>> f6031340e4b112c58bf82ae3d95ff7531dd72b01
   },
   "source": [
    "### 2.2.2. Hipoteses Produto"
   ]
  },
  {
   "cell_type": "markdown",
   "id": "82a489a8",
   "metadata": {
    "hidden": true
   },
   "source": [
    "**1.** Lojas que investem mais em Marketing deveriam vender mais.\n",
    "\n",
    "**2.** Lojas que expoe mais os produtos nas vitrines deveriam vender mais\n",
    "\n",
    "**3.** Lojas que tem preços menores nos produtos deveriam vender mais.\n",
    "\n",
    "**4.** Lojas que tem preços menores por mais tempo nos produtos deveriam vender mais.\n",
    "\n",
    "**5.** Lojas com promoções mais agressivas (descontos maiores), deveriam vender mais.\n",
    "\n",
    "**6.** Lojas com mais promoções consecutivas deveriam vender mais.\n",
    "\n",
    "**7.** Lojas com mais dias de promoções deveriam vender mais\n",
    "\n",
    "**8.** Lojas com promocões ativas por mais tempo deveriam vender mais."
   ]
  },
  {
   "cell_type": "markdown",
   "id": "1094c2b2",
   "metadata": {
<<<<<<< HEAD
    "heading_collapsed": true,
    "hidden": true
=======
    "heading_collapsed": true
>>>>>>> f6031340e4b112c58bf82ae3d95ff7531dd72b01
   },
   "source": [
    "### 2.2.3. Hipoteses Tempo"
   ]
  },
  {
   "cell_type": "markdown",
   "id": "6e3fc7a0",
   "metadata": {
    "hidden": true
   },
   "source": [
    "**1.** Lojas deveriam vender mais depois do dia 10 de cada mês.\n",
    "\n",
    "**2.** Lojas deveriam vender mais no segundo semestre do ano.\n",
    "\n",
    "**3.** Lojas deveriam vender menos nos finais de semana.\n",
    "\n",
    "**4.** Lojas abertas durante o feriado de Natal deveriam vender mais.\n",
    "\n",
    "**5.** Lojas deveriam vender menos durante os feriados escolares.\n",
    "\n",
    "**6.** Lojas deveriam vender mais ao longo dos anos."
   ]
  },
  {
   "cell_type": "markdown",
   "id": "6c09d1dc",
   "metadata": {
    "ExecuteTime": {
     "end_time": "2022-12-15T18:40:41.494899Z",
     "start_time": "2022-12-15T18:40:41.482619Z"
<<<<<<< HEAD
    },
    "hidden": true
=======
    }
>>>>>>> f6031340e4b112c58bf82ae3d95ff7531dd72b01
   },
   "source": [
    "## 2.3. Lista Final de Hipóteses"
   ]
  },
  {
   "cell_type": "markdown",
   "id": "bb5f185f",
<<<<<<< HEAD
   "metadata": {
    "hidden": true
   },
=======
   "metadata": {},
>>>>>>> f6031340e4b112c58bf82ae3d95ff7531dd72b01
   "source": [
    "**1.** Lojas com maior sortimento deveriam vender mais.\n",
    "\n",
    "**2.** Lojas com competidores mais próximos deveriam vender menos.\n",
    "\n",
    "**3.** Lojas com competidores a mais tempo deveriam vender mais."
   ]
  },
  {
   "cell_type": "markdown",
   "id": "76b6ccd6",
<<<<<<< HEAD
   "metadata": {
    "hidden": true
   },
=======
   "metadata": {},
>>>>>>> f6031340e4b112c58bf82ae3d95ff7531dd72b01
   "source": [
    "**4.** Lojas com promocões ativas por mais tempo deveriam vender mais.\n",
    "\n",
    "**5.** Lojas com mais dias de promoções deveriam vender mais.\n",
    "\n",
    "**6.** Lojas com mais promoções consecutivas deveriam vender mais."
   ]
  },
  {
   "cell_type": "markdown",
   "id": "a84b25d9",
<<<<<<< HEAD
   "metadata": {
    "hidden": true
   },
=======
   "metadata": {},
>>>>>>> f6031340e4b112c58bf82ae3d95ff7531dd72b01
   "source": [
    "**7.** Lojas abertas durante o feriado de Natal deveriam vender mais.\n",
    "\n",
    "**8.** Lojas deveriam vender mais ao longo dos anos.\n",
    "\n",
    "**9.** Lojas deveriam vender mais no segundo semestre do ano.\n",
    "\n",
    "**10.** Lojas deveriam vender mais depois do dia 10 de cada mês.\n",
    "\n",
    "**11.** Lojas deveriam vender menos nos finais de semana.\n",
    "\n",
    "**12.** Lojas deveriam vender menos durante os feriados escolares.\n"
   ]
  },
  {
   "cell_type": "markdown",
   "id": "8db8de11",
<<<<<<< HEAD
   "metadata": {
    "hidden": true
   },
=======
   "metadata": {},
>>>>>>> f6031340e4b112c58bf82ae3d95ff7531dd72b01
   "source": [
    "## 2.4. Feature Engineering"
   ]
  },
  {
   "cell_type": "code",
<<<<<<< HEAD
   "execution_count": 26,
   "id": "d0c7aa33",
   "metadata": {
    "ExecuteTime": {
     "end_time": "2022-12-16T00:48:02.230474Z",
     "start_time": "2022-12-16T00:46:53.706732Z"
    },
    "hidden": true
=======
   "execution_count": null,
   "id": "d0c7aa33",
   "metadata": {
    "ExecuteTime": {
     "start_time": "2022-12-15T19:31:09.637Z"
    }
>>>>>>> f6031340e4b112c58bf82ae3d95ff7531dd72b01
   },
   "outputs": [],
   "source": [
    "# year\n",
    "df2['year'] = df2['date'].dt.year\n",
    "# month\n",
    "df2['month'] = df2['date'].dt.month\n",
    "# day\n",
    "df2['day'] = df2['date'].dt.day\n",
    "# week of year\n",
    "df2['week_of_year'] = df2['date'].dt.isocalendar().week\n",
    "# year week\n",
    "df2['year_week'] = df2['date'].dt.strftime('%Y-W%')\n",
    "\n",
    "# competition since\n",
    "df2['competition_since'] = df2.apply(lambda x: datetime.datetime(year=x['competition_open_since_year'], \n",
    "                                                                 month=x['competition_open_since_month'], day=1), axis=1)\n",
    "\n",
    "df2['competition_time_month'] = ((df2['date'] - df2['competition_since'])/30).apply(lambda x: x.days).astype(int)\n",
    "                                     \n",
    "# promo since\n",
    "df2['promo_since'] = df2['promo2_since_year'].astype(str) + '-' + df2['promo2_since_week'].astype(str)\n",
    "\n",
    "df2['promo_since'] = df2['promo_since'].apply(lambda x: datetime.datetime.strptime(x + '-1', '%Y-%W-%w') - \n",
    "                                              datetime.timedelta(days=7))\n",
    "df2['promo_time_week'] = ((df2['date'] - df2['promo_since'])/7).apply(lambda x: x.days).astype(int)\n",
    "\n",
    "\n",
    "# assortment\n",
    "\n",
    "df2['assortment'] = df2['assortment'].apply(lambda x: 'basic' if x == 'a' else 'extra' if x == 'b' else 'extended')\n",
    "\n",
    "# state holiday\n",
    "df2['state_holiday'] = df2['state_holiday'].apply(lambda x:'public_holiday' if x == 'a' else 'easter_holiday' if x == 'b'\n",
    "                                                  else 'christmas' if x == 'c' else 'regular_day')\n",
    "\n"
   ]
  },
  {
   "cell_type": "code",
<<<<<<< HEAD
   "execution_count": 27,
   "id": "1e3e9dbf",
   "metadata": {
    "ExecuteTime": {
     "end_time": "2022-12-16T00:48:02.262213Z",
     "start_time": "2022-12-16T00:48:02.233472Z"
    },
    "hidden": true
=======
   "execution_count": 38,
   "id": "1e3e9dbf",
   "metadata": {
    "ExecuteTime": {
     "end_time": "2022-12-15T19:20:54.698174Z",
     "start_time": "2022-12-15T19:20:54.664424Z"
    }
>>>>>>> f6031340e4b112c58bf82ae3d95ff7531dd72b01
   },
   "outputs": [
    {
     "data": {
      "text/html": [
       "<div>\n",
       "<style scoped>\n",
       "    .dataframe tbody tr th:only-of-type {\n",
       "        vertical-align: middle;\n",
       "    }\n",
       "\n",
       "    .dataframe tbody tr th {\n",
       "        vertical-align: top;\n",
       "    }\n",
       "\n",
       "    .dataframe thead th {\n",
       "        text-align: right;\n",
       "    }\n",
       "</style>\n",
       "<table border=\"1\" class=\"dataframe\">\n",
       "  <thead>\n",
       "    <tr style=\"text-align: right;\">\n",
       "      <th></th>\n",
       "      <th>0</th>\n",
       "      <th>1</th>\n",
       "      <th>2</th>\n",
       "      <th>3</th>\n",
       "      <th>4</th>\n",
       "    </tr>\n",
       "  </thead>\n",
       "  <tbody>\n",
       "    <tr>\n",
       "      <th>store</th>\n",
       "      <td>1</td>\n",
       "      <td>2</td>\n",
       "      <td>3</td>\n",
       "      <td>4</td>\n",
       "      <td>5</td>\n",
       "    </tr>\n",
       "    <tr>\n",
       "      <th>day_of_week</th>\n",
       "      <td>5</td>\n",
       "      <td>5</td>\n",
       "      <td>5</td>\n",
       "      <td>5</td>\n",
       "      <td>5</td>\n",
       "    </tr>\n",
       "    <tr>\n",
       "      <th>date</th>\n",
       "      <td>2015-07-31 00:00:00</td>\n",
       "      <td>2015-07-31 00:00:00</td>\n",
       "      <td>2015-07-31 00:00:00</td>\n",
       "      <td>2015-07-31 00:00:00</td>\n",
       "      <td>2015-07-31 00:00:00</td>\n",
       "    </tr>\n",
       "    <tr>\n",
       "      <th>sales</th>\n",
       "      <td>5263</td>\n",
       "      <td>6064</td>\n",
       "      <td>8314</td>\n",
       "      <td>13995</td>\n",
       "      <td>4822</td>\n",
       "    </tr>\n",
       "    <tr>\n",
       "      <th>customers</th>\n",
       "      <td>555</td>\n",
       "      <td>625</td>\n",
       "      <td>821</td>\n",
       "      <td>1498</td>\n",
       "      <td>559</td>\n",
       "    </tr>\n",
       "    <tr>\n",
       "      <th>open</th>\n",
       "      <td>1</td>\n",
       "      <td>1</td>\n",
       "      <td>1</td>\n",
       "      <td>1</td>\n",
       "      <td>1</td>\n",
       "    </tr>\n",
       "    <tr>\n",
       "      <th>promo</th>\n",
       "      <td>1</td>\n",
       "      <td>1</td>\n",
       "      <td>1</td>\n",
       "      <td>1</td>\n",
       "      <td>1</td>\n",
       "    </tr>\n",
       "    <tr>\n",
       "      <th>state_holiday</th>\n",
<<<<<<< HEAD
       "      <td>regular_day</td>\n",
       "      <td>regular_day</td>\n",
       "      <td>regular_day</td>\n",
       "      <td>regular_day</td>\n",
       "      <td>regular_day</td>\n",
=======
       "      <td>0</td>\n",
       "      <td>0</td>\n",
       "      <td>0</td>\n",
       "      <td>0</td>\n",
       "      <td>0</td>\n",
>>>>>>> f6031340e4b112c58bf82ae3d95ff7531dd72b01
       "    </tr>\n",
       "    <tr>\n",
       "      <th>school_holiday</th>\n",
       "      <td>1</td>\n",
       "      <td>1</td>\n",
       "      <td>1</td>\n",
       "      <td>1</td>\n",
       "      <td>1</td>\n",
       "    </tr>\n",
       "    <tr>\n",
       "      <th>store_type</th>\n",
       "      <td>c</td>\n",
       "      <td>a</td>\n",
       "      <td>a</td>\n",
       "      <td>c</td>\n",
       "      <td>a</td>\n",
       "    </tr>\n",
       "    <tr>\n",
       "      <th>assortment</th>\n",
<<<<<<< HEAD
       "      <td>basic</td>\n",
       "      <td>basic</td>\n",
       "      <td>basic</td>\n",
       "      <td>extended</td>\n",
       "      <td>basic</td>\n",
=======
       "      <td>a</td>\n",
       "      <td>a</td>\n",
       "      <td>a</td>\n",
       "      <td>c</td>\n",
       "      <td>a</td>\n",
>>>>>>> f6031340e4b112c58bf82ae3d95ff7531dd72b01
       "    </tr>\n",
       "    <tr>\n",
       "      <th>competition_distance</th>\n",
       "      <td>1270.0</td>\n",
       "      <td>570.0</td>\n",
       "      <td>14130.0</td>\n",
       "      <td>620.0</td>\n",
       "      <td>29910.0</td>\n",
       "    </tr>\n",
       "    <tr>\n",
       "      <th>competition_open_since_month</th>\n",
       "      <td>9</td>\n",
       "      <td>11</td>\n",
       "      <td>12</td>\n",
       "      <td>9</td>\n",
       "      <td>4</td>\n",
       "    </tr>\n",
       "    <tr>\n",
       "      <th>competition_open_since_year</th>\n",
       "      <td>2008</td>\n",
       "      <td>2007</td>\n",
       "      <td>2006</td>\n",
       "      <td>2009</td>\n",
       "      <td>2015</td>\n",
       "    </tr>\n",
       "    <tr>\n",
       "      <th>promo2</th>\n",
       "      <td>0</td>\n",
       "      <td>1</td>\n",
       "      <td>1</td>\n",
       "      <td>0</td>\n",
       "      <td>0</td>\n",
       "    </tr>\n",
       "    <tr>\n",
       "      <th>promo2_since_week</th>\n",
       "      <td>31</td>\n",
       "      <td>13</td>\n",
       "      <td>14</td>\n",
       "      <td>31</td>\n",
       "      <td>31</td>\n",
       "    </tr>\n",
       "    <tr>\n",
       "      <th>promo2_since_year</th>\n",
       "      <td>2015</td>\n",
       "      <td>2010</td>\n",
       "      <td>2011</td>\n",
       "      <td>2015</td>\n",
       "      <td>2015</td>\n",
       "    </tr>\n",
       "    <tr>\n",
       "      <th>promo_interval</th>\n",
       "      <td>0</td>\n",
       "      <td>Jan,Apr,Jul,Oct</td>\n",
       "      <td>Jan,Apr,Jul,Oct</td>\n",
       "      <td>0</td>\n",
       "      <td>0</td>\n",
       "    </tr>\n",
       "    <tr>\n",
       "      <th>month_map</th>\n",
       "      <td>Jul</td>\n",
       "      <td>Jul</td>\n",
       "      <td>Jul</td>\n",
       "      <td>Jul</td>\n",
       "      <td>Jul</td>\n",
       "    </tr>\n",
       "    <tr>\n",
       "      <th>is_promo</th>\n",
       "      <td>0</td>\n",
       "      <td>1</td>\n",
       "      <td>1</td>\n",
       "      <td>0</td>\n",
       "      <td>0</td>\n",
       "    </tr>\n",
       "    <tr>\n",
       "      <th>year</th>\n",
       "      <td>2015</td>\n",
       "      <td>2015</td>\n",
       "      <td>2015</td>\n",
       "      <td>2015</td>\n",
       "      <td>2015</td>\n",
       "    </tr>\n",
       "    <tr>\n",
       "      <th>month</th>\n",
       "      <td>7</td>\n",
       "      <td>7</td>\n",
       "      <td>7</td>\n",
       "      <td>7</td>\n",
       "      <td>7</td>\n",
       "    </tr>\n",
       "    <tr>\n",
       "      <th>day</th>\n",
       "      <td>31</td>\n",
       "      <td>31</td>\n",
       "      <td>31</td>\n",
       "      <td>31</td>\n",
       "      <td>31</td>\n",
       "    </tr>\n",
       "    <tr>\n",
       "      <th>week_of_year</th>\n",
       "      <td>31</td>\n",
       "      <td>31</td>\n",
       "      <td>31</td>\n",
       "      <td>31</td>\n",
       "      <td>31</td>\n",
       "    </tr>\n",
       "    <tr>\n",
       "      <th>year_week</th>\n",
       "      <td>2015-07-31 00:00:00</td>\n",
       "      <td>2015-07-31 00:00:00</td>\n",
       "      <td>2015-07-31 00:00:00</td>\n",
       "      <td>2015-07-31 00:00:00</td>\n",
       "      <td>2015-07-31 00:00:00</td>\n",
       "    </tr>\n",
       "    <tr>\n",
       "      <th>competition_since</th>\n",
       "      <td>2008-09-01 00:00:00</td>\n",
       "      <td>2007-11-01 00:00:00</td>\n",
       "      <td>2006-12-01 00:00:00</td>\n",
       "      <td>2009-09-01 00:00:00</td>\n",
       "      <td>2015-04-01 00:00:00</td>\n",
       "    </tr>\n",
       "    <tr>\n",
       "      <th>competition_time_month</th>\n",
       "      <td>84</td>\n",
       "      <td>94</td>\n",
       "      <td>105</td>\n",
       "      <td>71</td>\n",
       "      <td>4</td>\n",
       "    </tr>\n",
<<<<<<< HEAD
       "    <tr>\n",
       "      <th>promo_since</th>\n",
       "      <td>2015-07-27 00:00:00</td>\n",
       "      <td>2010-03-22 00:00:00</td>\n",
       "      <td>2011-03-28 00:00:00</td>\n",
       "      <td>2015-07-27 00:00:00</td>\n",
       "      <td>2015-07-27 00:00:00</td>\n",
       "    </tr>\n",
       "    <tr>\n",
       "      <th>promo_time_week</th>\n",
       "      <td>0</td>\n",
       "      <td>279</td>\n",
       "      <td>226</td>\n",
       "      <td>0</td>\n",
       "      <td>0</td>\n",
       "    </tr>\n",
=======
>>>>>>> f6031340e4b112c58bf82ae3d95ff7531dd72b01
       "  </tbody>\n",
       "</table>\n",
       "</div>"
      ],
      "text/plain": [
       "                                                0                    1  \\\n",
       "store                                           1                    2   \n",
       "day_of_week                                     5                    5   \n",
       "date                          2015-07-31 00:00:00  2015-07-31 00:00:00   \n",
       "sales                                        5263                 6064   \n",
       "customers                                     555                  625   \n",
       "open                                            1                    1   \n",
       "promo                                           1                    1   \n",
<<<<<<< HEAD
       "state_holiday                         regular_day          regular_day   \n",
       "school_holiday                                  1                    1   \n",
       "store_type                                      c                    a   \n",
       "assortment                                  basic                basic   \n",
=======
       "state_holiday                                   0                    0   \n",
       "school_holiday                                  1                    1   \n",
       "store_type                                      c                    a   \n",
       "assortment                                      a                    a   \n",
>>>>>>> f6031340e4b112c58bf82ae3d95ff7531dd72b01
       "competition_distance                       1270.0                570.0   \n",
       "competition_open_since_month                    9                   11   \n",
       "competition_open_since_year                  2008                 2007   \n",
       "promo2                                          0                    1   \n",
       "promo2_since_week                              31                   13   \n",
       "promo2_since_year                            2015                 2010   \n",
       "promo_interval                                  0      Jan,Apr,Jul,Oct   \n",
       "month_map                                     Jul                  Jul   \n",
       "is_promo                                        0                    1   \n",
       "year                                         2015                 2015   \n",
       "month                                           7                    7   \n",
       "day                                            31                   31   \n",
       "week_of_year                                   31                   31   \n",
       "year_week                     2015-07-31 00:00:00  2015-07-31 00:00:00   \n",
       "competition_since             2008-09-01 00:00:00  2007-11-01 00:00:00   \n",
       "competition_time_month                         84                   94   \n",
<<<<<<< HEAD
       "promo_since                   2015-07-27 00:00:00  2010-03-22 00:00:00   \n",
       "promo_time_week                                 0                  279   \n",
=======
>>>>>>> f6031340e4b112c58bf82ae3d95ff7531dd72b01
       "\n",
       "                                                2                    3  \\\n",
       "store                                           3                    4   \n",
       "day_of_week                                     5                    5   \n",
       "date                          2015-07-31 00:00:00  2015-07-31 00:00:00   \n",
       "sales                                        8314                13995   \n",
       "customers                                     821                 1498   \n",
       "open                                            1                    1   \n",
       "promo                                           1                    1   \n",
<<<<<<< HEAD
       "state_holiday                         regular_day          regular_day   \n",
       "school_holiday                                  1                    1   \n",
       "store_type                                      a                    c   \n",
       "assortment                                  basic             extended   \n",
=======
       "state_holiday                                   0                    0   \n",
       "school_holiday                                  1                    1   \n",
       "store_type                                      a                    c   \n",
       "assortment                                      a                    c   \n",
>>>>>>> f6031340e4b112c58bf82ae3d95ff7531dd72b01
       "competition_distance                      14130.0                620.0   \n",
       "competition_open_since_month                   12                    9   \n",
       "competition_open_since_year                  2006                 2009   \n",
       "promo2                                          1                    0   \n",
       "promo2_since_week                              14                   31   \n",
       "promo2_since_year                            2011                 2015   \n",
       "promo_interval                    Jan,Apr,Jul,Oct                    0   \n",
       "month_map                                     Jul                  Jul   \n",
       "is_promo                                        1                    0   \n",
       "year                                         2015                 2015   \n",
       "month                                           7                    7   \n",
       "day                                            31                   31   \n",
       "week_of_year                                   31                   31   \n",
       "year_week                     2015-07-31 00:00:00  2015-07-31 00:00:00   \n",
       "competition_since             2006-12-01 00:00:00  2009-09-01 00:00:00   \n",
       "competition_time_month                        105                   71   \n",
<<<<<<< HEAD
       "promo_since                   2011-03-28 00:00:00  2015-07-27 00:00:00   \n",
       "promo_time_week                               226                    0   \n",
=======
>>>>>>> f6031340e4b112c58bf82ae3d95ff7531dd72b01
       "\n",
       "                                                4  \n",
       "store                                           5  \n",
       "day_of_week                                     5  \n",
       "date                          2015-07-31 00:00:00  \n",
       "sales                                        4822  \n",
       "customers                                     559  \n",
       "open                                            1  \n",
       "promo                                           1  \n",
<<<<<<< HEAD
       "state_holiday                         regular_day  \n",
       "school_holiday                                  1  \n",
       "store_type                                      a  \n",
       "assortment                                  basic  \n",
=======
       "state_holiday                                   0  \n",
       "school_holiday                                  1  \n",
       "store_type                                      a  \n",
       "assortment                                      a  \n",
>>>>>>> f6031340e4b112c58bf82ae3d95ff7531dd72b01
       "competition_distance                      29910.0  \n",
       "competition_open_since_month                    4  \n",
       "competition_open_since_year                  2015  \n",
       "promo2                                          0  \n",
       "promo2_since_week                              31  \n",
       "promo2_since_year                            2015  \n",
       "promo_interval                                  0  \n",
       "month_map                                     Jul  \n",
       "is_promo                                        0  \n",
       "year                                         2015  \n",
       "month                                           7  \n",
       "day                                            31  \n",
       "week_of_year                                   31  \n",
       "year_week                     2015-07-31 00:00:00  \n",
       "competition_since             2015-04-01 00:00:00  \n",
<<<<<<< HEAD
       "competition_time_month                          4  \n",
       "promo_since                   2015-07-27 00:00:00  \n",
       "promo_time_week                                 0  "
      ]
     },
     "execution_count": 27,
=======
       "competition_time_month                          4  "
      ]
     },
     "execution_count": 38,
>>>>>>> f6031340e4b112c58bf82ae3d95ff7531dd72b01
     "metadata": {},
     "output_type": "execute_result"
    }
   ],
   "source": [
    "df2.head().T"
   ]
  },
  {
<<<<<<< HEAD
   "cell_type": "markdown",
   "id": "91aec1e8",
   "metadata": {},
   "source": [
    "# 3.0. PASSO 03 - FILTRAGEM DE VARIÁVEIS"
   ]
=======
   "cell_type": "code",
   "execution_count": null,
   "id": "07fcccf4",
   "metadata": {},
   "outputs": [],
   "source": []
>>>>>>> f6031340e4b112c58bf82ae3d95ff7531dd72b01
  },
  {
   "cell_type": "code",
   "execution_count": null,
   "id": "3acc1142",
<<<<<<< HEAD
   "metadata": {
    "ExecuteTime": {
     "end_time": "2022-12-16T00:48:02.715426Z",
     "start_time": "2022-12-16T00:48:02.715426Z"
    }
   },
   "outputs": [],
   "source": [
    "df3 = df2.copy()"
   ]
=======
   "metadata": {},
   "outputs": [],
   "source": []
>>>>>>> f6031340e4b112c58bf82ae3d95ff7531dd72b01
  },
  {
   "cell_type": "code",
   "execution_count": null,
<<<<<<< HEAD
   "id": "a7e47ae9",
   "metadata": {
    "ExecuteTime": {
     "end_time": "2022-12-16T00:48:02.720279Z",
     "start_time": "2022-12-16T00:48:02.720279Z"
    }
   },
   "outputs": [],
   "source": [
    "df3.head()"
   ]
  },
  {
   "cell_type": "markdown",
   "id": "8516a7b9",
   "metadata": {},
   "source": [
    "## 3.1. Filtragem das Linhas"
   ]
  },
  {
   "cell_type": "code",
   "execution_count": 29,
   "id": "d6afe603",
   "metadata": {
    "ExecuteTime": {
     "end_time": "2022-12-16T00:55:01.633189Z",
     "start_time": "2022-12-16T00:55:01.364888Z"
    }
   },
   "outputs": [],
   "source": [
    "df3 = df3[(df3['open'] != 0) & (df3['sales'] > 0)]"
   ]
  },
  {
   "cell_type": "code",
   "execution_count": 30,
   "id": "29dc0966",
   "metadata": {
    "ExecuteTime": {
     "end_time": "2022-12-16T00:56:15.942866Z",
     "start_time": "2022-12-16T00:56:15.731917Z"
    }
   },
   "outputs": [],
   "source": [
    "cols_drop = ['customers', 'open', 'promo_interval', 'month_map']\n",
    "df3 = df3.drop(cols_drop, axis=1)"
   ]
  },
  {
   "cell_type": "code",
   "execution_count": 31,
   "id": "8a1becc2",
   "metadata": {
    "ExecuteTime": {
     "end_time": "2022-12-16T00:56:20.803268Z",
     "start_time": "2022-12-16T00:56:20.786989Z"
    }
   },
   "outputs": [
    {
     "data": {
      "text/plain": [
       "Index(['store', 'day_of_week', 'date', 'sales', 'promo', 'state_holiday',\n",
       "       'school_holiday', 'store_type', 'assortment', 'competition_distance',\n",
       "       'competition_open_since_month', 'competition_open_since_year', 'promo2',\n",
       "       'promo2_since_week', 'promo2_since_year', 'is_promo', 'year', 'month',\n",
       "       'day', 'week_of_year', 'year_week', 'competition_since',\n",
       "       'competition_time_month', 'promo_since', 'promo_time_week'],\n",
       "      dtype='object')"
      ]
     },
     "execution_count": 31,
     "metadata": {},
     "output_type": "execute_result"
    }
   ],
   "source": [
    "df3.columns"
   ]
  },
  {
   "cell_type": "markdown",
   "id": "1a0f4f7a",
   "metadata": {},
   "source": [
    "## 3.2. Filtragem das Colunas"
   ]
=======
   "id": "d7e705dd",
   "metadata": {},
   "outputs": [],
   "source": []
  },
  {
   "cell_type": "code",
   "execution_count": null,
   "id": "f0431282",
   "metadata": {},
   "outputs": [],
   "source": []
>>>>>>> f6031340e4b112c58bf82ae3d95ff7531dd72b01
  },
  {
   "cell_type": "code",
   "execution_count": null,
   "id": "8221ac50",
   "metadata": {},
   "outputs": [],
<<<<<<< HEAD
   "source": [
    "'customers'"
   ]
=======
   "source": []
>>>>>>> f6031340e4b112c58bf82ae3d95ff7531dd72b01
  },
  {
   "cell_type": "code",
   "execution_count": null,
   "id": "8905f7a2",
   "metadata": {},
   "outputs": [],
   "source": []
  }
 ],
 "metadata": {
  "hide_input": false,
  "kernelspec": {
   "display_name": "Python 3 (ipykernel)",
   "language": "python",
   "name": "python3"
  },
  "language_info": {
   "codemirror_mode": {
    "name": "ipython",
    "version": 3
   },
   "file_extension": ".py",
   "mimetype": "text/x-python",
   "name": "python",
   "nbconvert_exporter": "python",
   "pygments_lexer": "ipython3",
   "version": "3.9.15"
  },
  "varInspector": {
   "cols": {
    "lenName": 16,
    "lenType": 16,
    "lenVar": 40
   },
   "kernels_config": {
    "python": {
     "delete_cmd_postfix": "",
     "delete_cmd_prefix": "del ",
     "library": "var_list.py",
     "varRefreshCmd": "print(var_dic_list())"
    },
    "r": {
     "delete_cmd_postfix": ") ",
     "delete_cmd_prefix": "rm(",
     "library": "var_list.r",
     "varRefreshCmd": "cat(var_dic_list()) "
    }
   },
   "types_to_exclude": [
    "module",
    "function",
    "builtin_function_or_method",
    "instance",
    "_Feature"
   ],
   "window_display": false
  }
 },
 "nbformat": 4,
 "nbformat_minor": 5
}
